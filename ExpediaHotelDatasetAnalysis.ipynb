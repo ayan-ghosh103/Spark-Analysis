{
 "cells": [
  {
   "cell_type": "markdown",
   "metadata": {},
   "source": [
    "# Initialize PySpark\n",
    "We are importing findspark to use findspark.init() to make pyspark importable as a regular library."
   ]
  },
  {
   "cell_type": "code",
   "execution_count": 1,
   "metadata": {},
   "outputs": [],
   "source": [
    "import findspark\n",
    "findspark.init()"
   ]
  },
  {
   "cell_type": "markdown",
   "metadata": {},
   "source": [
    "**Graphframes Package**\n",
    "\n",
    "GraphFrames is a package for Apache Spark which provides DataFrame-based Graphs. It provides high-level APIs in Scala, Java, and Python. It aims to provide both the functionality of GraphX and extended functionality taking advantage of Spark DataFrames.\n",
    "\n",
    "The following lines are used to set up the PySpark Environment to include GraphFrames package."
   ]
  },
  {
   "cell_type": "code",
   "execution_count": 2,
   "metadata": {},
   "outputs": [],
   "source": [
    "import os\n",
    "os.environ['PYSPARK_SUBMIT_ARGS'] = '--packages \"graphframes:graphframes:0.8.0-spark3.0-s_2.12\" pyspark-shell'\n"
   ]
  },
  {
   "cell_type": "markdown",
   "metadata": {},
   "source": [
    "# Creation of Entry point\n",
    "We will be using SparkSession to create the entry point of programming Spark with the Dataset and DataFrame API, providing means to interact with various spark’s functionality. \n",
    "\n",
    "The spark session builder will try to get a spark session if there is one already created or create a new one and assigns the newly created SparkSession as the global default. \n",
    "\n",
    "We are using SparkSession, instead of SparkContext because it unifies all the different contexts. "
   ]
  },
  {
   "cell_type": "code",
   "execution_count": 3,
   "metadata": {},
   "outputs": [],
   "source": [
    "from pyspark.sql.session import SparkSession\n",
    "\n",
    "spark = SparkSession.builder\\\n",
    "            .appName(\"Expedia\")\\\n",
    "            .getOrCreate()"
   ]
  },
  {
   "cell_type": "markdown",
   "metadata": {},
   "source": [
    "**Graphframes**\n",
    "\n",
    "We need to import it to be used for Graph Analytics "
   ]
  },
  {
   "cell_type": "code",
   "execution_count": 4,
   "metadata": {},
   "outputs": [],
   "source": [
    "from graphframes import GraphFrame"
   ]
  },
  {
   "cell_type": "code",
   "execution_count": 62,
   "metadata": {},
   "outputs": [
    {
     "data": {
      "text/html": [
       "<style>.container { width:90% !important; }</style>"
      ],
      "text/plain": [
       "<IPython.core.display.HTML object>"
      ]
     },
     "metadata": {},
     "output_type": "display_data"
    },
    {
     "data": {
      "text/html": [
       "<style>.rendered_html { font-size: 16px; }</style>"
      ],
      "text/plain": [
       "<IPython.core.display.HTML object>"
      ]
     },
     "metadata": {},
     "output_type": "display_data"
    }
   ],
   "source": [
    "# Necessary packages to be imported\n",
    "from IPython.display import display, Markdown,HTML\n",
    "from pyspark.sql.functions import *\n",
    "\n",
    "display(HTML(\"<style>.container { width:90% !important; }</style>\")) # Increase cell width\n",
    "display(HTML(\"<style>.rendered_html { font-size: 16px; }</style>\")) # Increase font size"
   ]
  },
  {
   "cell_type": "markdown",
   "metadata": {},
   "source": [
    "# Uploading and Creation of Dataset\n",
    "\n",
    "With a SparkSession in place, application can create DataFrames from an existing csv, Expedia Dataset.\n",
    "\n",
    "By setting inferSchema as true , Spark will automatically go through the csv file and infer the schema of each column, requiring extra resource making the execution being slower, but not need to set schema for each column after wards.\n",
    "\n",
    "By setting the header as true, we are specifying the first row, has the column names and will not be considered as part of observations."
   ]
  },
  {
   "cell_type": "code",
   "execution_count": null,
   "metadata": {},
   "outputs": [],
   "source": [
    "exp_df = spark.read \\\n",
    "                 .option(\"inferSchema\", \"true\") \\\n",
    "                 .option(\"header\", \"true\") \\\n",
    "                 .csv(\"Expedia_Dataset.csv\") \\\n",
    "                 .cache() # optimization to make the processing faster"
   ]
  },
  {
   "cell_type": "markdown",
   "metadata": {},
   "source": [
    "# Feature Description\n",
    "\n",
    "|Column name|Description|Data type|\n",
    "|-----|:-------|------|\n",
    "|date_time|Timestamp|string|\n",
    "|site_name|ID of the Expedia point of sale (i.e. Expedia.com, Expedia.co.uk, Expedia.co.jp, ...)|int| \n",
    "|posa_continent|ID of continent associated with site_name |int|\n",
    "|user_location_country|ID of the country the customer is located|int|\n",
    "|user_location_region|ID of the region the customer is located|int|\n",
    "|user_location_city|ID of the city the customer is located|int|\n",
    "|orig_destination_distance|Physical distance between a hotel and a customer at the time of search. A null means the distance could not be calculated|double|\n",
    "|user_id|ID of user|int|\n",
    "|is_mobile| when a user connected from a mobile device, 0 otherwise|tinyint|\n",
    "|is_package|1 if the click/booking was generated as a part of a package (i.e. combined with a flight), 0 otherwise|int|\n",
    "|channel|ID of a marketing channel|int|\n",
    "|srch_ci|Checkin date|string|\n",
    "|srch_co|Checkout date|string|\n",
    "|srch_adults_cnt|The number of adults specified in the hotel room|int|\n",
    "|srch_children_cnt|The number of (extra occupancy) children specified in the hotel room |int|\n",
    "|srch_rm_cnt|The number of hotel rooms specified in the search |int|\n",
    "|srch_destination_id|ID of the destination where the hotel search was performed |int|\n",
    "|srch_destination_type_id|Type of destination|int|\n",
    "|hotel_continent|Hotel continent|int|\n",
    "|hotel_country|Hotel country|int|\n",
    "|hotel_market|Hotel market|int|\n",
    "|is_booking |1 if a booking, 0 if a click|tinyint|\n",
    "|cnt|Numer of similar events in the context of the same user session|bigint|\n",
    "|hotel_cluster|ID of a hotel cluster|int|"
   ]
  },
  {
   "cell_type": "markdown",
   "metadata": {},
   "source": [
    "# Conversion\n",
    "\n",
    "Function defined to save the above dataframe into parquet files for ease of accessibility."
   ]
  },
  {
   "cell_type": "code",
   "execution_count": null,
   "metadata": {},
   "outputs": [],
   "source": [
    "def save(df,f):\n",
    "    df.write.mode(\"overwrite\").format(f).save(\"Expedia/\" + f + \"/\")\n",
    "\n",
    "[save(exp_df,f) for f in [\"parquet\"]]"
   ]
  },
  {
   "cell_type": "markdown",
   "metadata": {},
   "source": [
    "**Verify**\n",
    "\n",
    "The below function defined loads the parquet files created and shows the first 5 observations."
   ]
  },
  {
   "cell_type": "code",
   "execution_count": null,
   "metadata": {},
   "outputs": [],
   "source": [
    "def load_and_show(f):\n",
    "    print(f)\n",
    "    spark.read.format(f).load(\"Expedia/\" + f + \"/\").show(5,False)\n",
    "\n",
    "[load_and_show(f) for f in [\"parquet\"]]"
   ]
  },
  {
   "cell_type": "markdown",
   "metadata": {},
   "source": [
    "# Set the proper Schema\n",
    "We are loading from the parquet files and setting proper datatypes to each columns. Currently, three columns are being modified.\n",
    "\n",
    "1. date_time: timestamp (Earlier: String)\n",
    "2. srch_ci: date (Earlier String)\n",
    "3. srch_co: date (Earlier String)\n",
    "\n",
    "We need to do these modifications to have date time analysis on the dataset.\n",
    "\n",
    "Finally, we are saving the contents of the SparkDataFrame to a data source as a ***table*** with write mode as ***overwrite***, so that the existing data is expected to be overwritten by the contents of this SparkDataFrame."
   ]
  },
  {
   "cell_type": "code",
   "execution_count": 6,
   "metadata": {},
   "outputs": [],
   "source": [
    "exp = spark.read.parquet(\"../Spark_Assignment/Expedia/parquet/\")\n",
    "exp = exp.select(col(\"date_time\").cast(\"timestamp\"),\n",
    "                 col(\"srch_ci\").cast(\"date\"),\n",
    "                 col(\"srch_co\").cast(\"date\"),\n",
    "                 col('site_name').cast(\"int\"),\n",
    "                 col('posa_continent').cast(\"int\"),\n",
    "                 col('user_location_country').cast(\"int\"),\n",
    "                 col('user_location_region').cast(\"int\"),\n",
    "                 col('user_location_city').cast(\"int\"),\n",
    "                 col('orig_destination_distance').cast(\"int\"),\n",
    "                 col('user_id').cast(\"int\"),\n",
    "                 col('is_mobile').cast(\"int\"),\n",
    "                 col('is_package').cast(\"int\"),\n",
    "                 col('channel').cast(\"int\"),\n",
    "                 col('srch_adults_cnt').cast(\"int\"),\n",
    "                 col('srch_children_cnt').cast(\"int\"),\n",
    "                 col('srch_rm_cnt').cast(\"int\"),\n",
    "                 col('srch_destination_id').cast(\"int\"),\n",
    "                 col('srch_destination_type_id').cast(\"int\"),\n",
    "                 col('is_booking').cast(\"int\"),\n",
    "                 col('cnt').cast(\"int\"),\n",
    "                 col('hotel_continent').cast(\"int\"),\n",
    "                 col('hotel_country').cast(\"int\"),\n",
    "                 col('hotel_market').cast(\"int\"),\n",
    "                 col('hotel_cluster').cast(\"int\"))\n",
    "spark.sql(\"drop table if exists exp\")\n",
    "exp.write.mode(\"overwrite\").saveAsTable(\"exp\") "
   ]
  },
  {
   "cell_type": "markdown",
   "metadata": {},
   "source": [
    "**Basic Schema and Size of the Dataset**"
   ]
  },
  {
   "cell_type": "code",
   "execution_count": 7,
   "metadata": {},
   "outputs": [
    {
     "name": "stdout",
     "output_type": "stream",
     "text": [
      "root\n",
      " |-- date_time: timestamp (nullable = true)\n",
      " |-- srch_ci: date (nullable = true)\n",
      " |-- srch_co: date (nullable = true)\n",
      " |-- site_name: integer (nullable = true)\n",
      " |-- posa_continent: integer (nullable = true)\n",
      " |-- user_location_country: integer (nullable = true)\n",
      " |-- user_location_region: integer (nullable = true)\n",
      " |-- user_location_city: integer (nullable = true)\n",
      " |-- orig_destination_distance: integer (nullable = true)\n",
      " |-- user_id: integer (nullable = true)\n",
      " |-- is_mobile: integer (nullable = true)\n",
      " |-- is_package: integer (nullable = true)\n",
      " |-- channel: integer (nullable = true)\n",
      " |-- srch_adults_cnt: integer (nullable = true)\n",
      " |-- srch_children_cnt: integer (nullable = true)\n",
      " |-- srch_rm_cnt: integer (nullable = true)\n",
      " |-- srch_destination_id: integer (nullable = true)\n",
      " |-- srch_destination_type_id: integer (nullable = true)\n",
      " |-- is_booking: integer (nullable = true)\n",
      " |-- cnt: integer (nullable = true)\n",
      " |-- hotel_continent: integer (nullable = true)\n",
      " |-- hotel_country: integer (nullable = true)\n",
      " |-- hotel_market: integer (nullable = true)\n",
      " |-- hotel_cluster: integer (nullable = true)\n",
      "\n"
     ]
    },
    {
     "data": {
      "text/markdown": [
       "This DataFrame has **37670293** rows."
      ],
      "text/plain": [
       "<IPython.core.display.Markdown object>"
      ]
     },
     "metadata": {},
     "output_type": "display_data"
    }
   ],
   "source": [
    "exp.printSchema()\n",
    "display(Markdown(\"This DataFrame has **%d** rows.\" % exp.count()))"
   ]
  },
  {
   "cell_type": "code",
   "execution_count": 8,
   "metadata": {},
   "outputs": [
    {
     "data": {
      "text/plain": [
       "[('date_time', 'timestamp'),\n",
       " ('srch_ci', 'date'),\n",
       " ('srch_co', 'date'),\n",
       " ('site_name', 'int'),\n",
       " ('posa_continent', 'int'),\n",
       " ('user_location_country', 'int'),\n",
       " ('user_location_region', 'int'),\n",
       " ('user_location_city', 'int'),\n",
       " ('orig_destination_distance', 'int'),\n",
       " ('user_id', 'int'),\n",
       " ('is_mobile', 'int'),\n",
       " ('is_package', 'int'),\n",
       " ('channel', 'int'),\n",
       " ('srch_adults_cnt', 'int'),\n",
       " ('srch_children_cnt', 'int'),\n",
       " ('srch_rm_cnt', 'int'),\n",
       " ('srch_destination_id', 'int'),\n",
       " ('srch_destination_type_id', 'int'),\n",
       " ('is_booking', 'int'),\n",
       " ('cnt', 'int'),\n",
       " ('hotel_continent', 'int'),\n",
       " ('hotel_country', 'int'),\n",
       " ('hotel_market', 'int'),\n",
       " ('hotel_cluster', 'int')]"
      ]
     },
     "execution_count": 8,
     "metadata": {},
     "output_type": "execute_result"
    }
   ],
   "source": [
    "# Name of the columns and its corresponding datatype\n",
    "exp.dtypes "
   ]
  },
  {
   "cell_type": "markdown",
   "metadata": {},
   "source": [
    "# Basic Statistics\n",
    "We are using ***summary()*** to find the basic statistics of all the columns ( Except the timestamp and date datatypes), including mean, median, quantiles, min and max. Most of the attributes are categorical, so these statistics do not make much sense, except the ***min*** and ***max***. The only five continuous variables, being:\n",
    "\n",
    "1. orig_destination_distance: int\n",
    "2. srch_adults_cnt: int\n",
    "3. srch_children_cnt: int\n",
    "4. srch_rm_cnt: int\n",
    "5. cnt: int\n",
    "\n",
    "This analysis is followed by checking of ***null values*** within the columns, so that those can be imputed for dealt with accordingly."
   ]
  },
  {
   "cell_type": "code",
   "execution_count": 9,
   "metadata": {},
   "outputs": [
    {
     "data": {
      "text/html": [
       "<div>\n",
       "<style scoped>\n",
       "    .dataframe tbody tr th:only-of-type {\n",
       "        vertical-align: middle;\n",
       "    }\n",
       "\n",
       "    .dataframe tbody tr th {\n",
       "        vertical-align: top;\n",
       "    }\n",
       "\n",
       "    .dataframe thead th {\n",
       "        text-align: right;\n",
       "    }\n",
       "</style>\n",
       "<table border=\"1\" class=\"dataframe\">\n",
       "  <thead>\n",
       "    <tr style=\"text-align: right;\">\n",
       "      <th></th>\n",
       "      <th>summary</th>\n",
       "      <th>site_name</th>\n",
       "      <th>posa_continent</th>\n",
       "      <th>user_location_country</th>\n",
       "      <th>user_location_region</th>\n",
       "      <th>user_location_city</th>\n",
       "      <th>orig_destination_distance</th>\n",
       "      <th>user_id</th>\n",
       "      <th>is_mobile</th>\n",
       "      <th>is_package</th>\n",
       "      <th>...</th>\n",
       "      <th>srch_children_cnt</th>\n",
       "      <th>srch_rm_cnt</th>\n",
       "      <th>srch_destination_id</th>\n",
       "      <th>srch_destination_type_id</th>\n",
       "      <th>is_booking</th>\n",
       "      <th>cnt</th>\n",
       "      <th>hotel_continent</th>\n",
       "      <th>hotel_country</th>\n",
       "      <th>hotel_market</th>\n",
       "      <th>hotel_cluster</th>\n",
       "    </tr>\n",
       "  </thead>\n",
       "  <tbody>\n",
       "    <tr>\n",
       "      <th>0</th>\n",
       "      <td>count</td>\n",
       "      <td>37670293</td>\n",
       "      <td>37670293</td>\n",
       "      <td>37670293</td>\n",
       "      <td>37670293</td>\n",
       "      <td>37670293</td>\n",
       "      <td>24145292</td>\n",
       "      <td>37670293</td>\n",
       "      <td>37670293</td>\n",
       "      <td>37670293</td>\n",
       "      <td>...</td>\n",
       "      <td>37670293</td>\n",
       "      <td>37670293</td>\n",
       "      <td>37670293</td>\n",
       "      <td>37670293</td>\n",
       "      <td>37670293</td>\n",
       "      <td>37670293</td>\n",
       "      <td>37670293</td>\n",
       "      <td>37670293</td>\n",
       "      <td>37670293</td>\n",
       "      <td>37670293</td>\n",
       "    </tr>\n",
       "    <tr>\n",
       "      <th>1</th>\n",
       "      <td>mean</td>\n",
       "      <td>9.795271329585889</td>\n",
       "      <td>2.6804730188851997</td>\n",
       "      <td>86.10880194109454</td>\n",
       "      <td>308.4060117610447</td>\n",
       "      <td>27753.044729330883</td>\n",
       "      <td>1969.590628640979</td>\n",
       "      <td>604451.7531778422</td>\n",
       "      <td>0.1349265056154461</td>\n",
       "      <td>0.24890422275186444</td>\n",
       "      <td>...</td>\n",
       "      <td>0.3321221579030458</td>\n",
       "      <td>1.1126628083301608</td>\n",
       "      <td>14441.090543760836</td>\n",
       "      <td>2.5822799148389954</td>\n",
       "      <td>0.07965674702875288</td>\n",
       "      <td>1.4833839227106622</td>\n",
       "      <td>3.1563047837190967</td>\n",
       "      <td>81.29685165974153</td>\n",
       "      <td>600.461883638654</td>\n",
       "      <td>49.80860501934509</td>\n",
       "    </tr>\n",
       "    <tr>\n",
       "      <th>2</th>\n",
       "      <td>stddev</td>\n",
       "      <td>11.967543566512786</td>\n",
       "      <td>0.7480393482506618</td>\n",
       "      <td>59.24310334783829</td>\n",
       "      <td>208.443749738566</td>\n",
       "      <td>16782.553195680215</td>\n",
       "      <td>2232.4417766593897</td>\n",
       "      <td>350617.4620408527</td>\n",
       "      <td>0.3416450596691772</td>\n",
       "      <td>0.4323782089918223</td>\n",
       "      <td>...</td>\n",
       "      <td>0.7314980986397177</td>\n",
       "      <td>0.4591154996385753</td>\n",
       "      <td>11066.302332627236</td>\n",
       "      <td>2.153018959399933</td>\n",
       "      <td>0.2707610600283743</td>\n",
       "      <td>1.219775578655835</td>\n",
       "      <td>1.6231886782105933</td>\n",
       "      <td>56.17118806288729</td>\n",
       "      <td>511.73912727921805</td>\n",
       "      <td>28.915950805004442</td>\n",
       "    </tr>\n",
       "    <tr>\n",
       "      <th>3</th>\n",
       "      <td>min</td>\n",
       "      <td>2</td>\n",
       "      <td>0</td>\n",
       "      <td>0</td>\n",
       "      <td>0</td>\n",
       "      <td>0</td>\n",
       "      <td>0</td>\n",
       "      <td>0</td>\n",
       "      <td>0</td>\n",
       "      <td>0</td>\n",
       "      <td>...</td>\n",
       "      <td>0</td>\n",
       "      <td>0</td>\n",
       "      <td>0</td>\n",
       "      <td>0</td>\n",
       "      <td>0</td>\n",
       "      <td>1</td>\n",
       "      <td>0</td>\n",
       "      <td>0</td>\n",
       "      <td>0</td>\n",
       "      <td>0</td>\n",
       "    </tr>\n",
       "    <tr>\n",
       "      <th>4</th>\n",
       "      <td>25%</td>\n",
       "      <td>2</td>\n",
       "      <td>3</td>\n",
       "      <td>66</td>\n",
       "      <td>174</td>\n",
       "      <td>13009</td>\n",
       "      <td>313</td>\n",
       "      <td>298891</td>\n",
       "      <td>0</td>\n",
       "      <td>0</td>\n",
       "      <td>...</td>\n",
       "      <td>0</td>\n",
       "      <td>1</td>\n",
       "      <td>8267</td>\n",
       "      <td>1</td>\n",
       "      <td>0</td>\n",
       "      <td>1</td>\n",
       "      <td>2</td>\n",
       "      <td>50</td>\n",
       "      <td>160</td>\n",
       "      <td>25</td>\n",
       "    </tr>\n",
       "    <tr>\n",
       "      <th>5</th>\n",
       "      <td>50%</td>\n",
       "      <td>2</td>\n",
       "      <td>3</td>\n",
       "      <td>66</td>\n",
       "      <td>314</td>\n",
       "      <td>27655</td>\n",
       "      <td>1140</td>\n",
       "      <td>603883</td>\n",
       "      <td>0</td>\n",
       "      <td>0</td>\n",
       "      <td>...</td>\n",
       "      <td>0</td>\n",
       "      <td>1</td>\n",
       "      <td>9147</td>\n",
       "      <td>1</td>\n",
       "      <td>0</td>\n",
       "      <td>1</td>\n",
       "      <td>2</td>\n",
       "      <td>50</td>\n",
       "      <td>593</td>\n",
       "      <td>49</td>\n",
       "    </tr>\n",
       "    <tr>\n",
       "      <th>6</th>\n",
       "      <td>75%</td>\n",
       "      <td>14</td>\n",
       "      <td>3</td>\n",
       "      <td>70</td>\n",
       "      <td>385</td>\n",
       "      <td>42413</td>\n",
       "      <td>2552</td>\n",
       "      <td>910176</td>\n",
       "      <td>0</td>\n",
       "      <td>0</td>\n",
       "      <td>...</td>\n",
       "      <td>0</td>\n",
       "      <td>1</td>\n",
       "      <td>18810</td>\n",
       "      <td>5</td>\n",
       "      <td>0</td>\n",
       "      <td>2</td>\n",
       "      <td>4</td>\n",
       "      <td>106</td>\n",
       "      <td>701</td>\n",
       "      <td>73</td>\n",
       "    </tr>\n",
       "    <tr>\n",
       "      <th>7</th>\n",
       "      <td>max</td>\n",
       "      <td>53</td>\n",
       "      <td>4</td>\n",
       "      <td>239</td>\n",
       "      <td>1027</td>\n",
       "      <td>56508</td>\n",
       "      <td>12407</td>\n",
       "      <td>1198785</td>\n",
       "      <td>1</td>\n",
       "      <td>1</td>\n",
       "      <td>...</td>\n",
       "      <td>9</td>\n",
       "      <td>8</td>\n",
       "      <td>65107</td>\n",
       "      <td>9</td>\n",
       "      <td>1</td>\n",
       "      <td>269</td>\n",
       "      <td>6</td>\n",
       "      <td>212</td>\n",
       "      <td>2117</td>\n",
       "      <td>99</td>\n",
       "    </tr>\n",
       "  </tbody>\n",
       "</table>\n",
       "<p>8 rows × 22 columns</p>\n",
       "</div>"
      ],
      "text/plain": [
       "  summary           site_name      posa_continent user_location_country  \\\n",
       "0   count            37670293            37670293              37670293   \n",
       "1    mean   9.795271329585889  2.6804730188851997     86.10880194109454   \n",
       "2  stddev  11.967543566512786  0.7480393482506618     59.24310334783829   \n",
       "3     min                   2                   0                     0   \n",
       "4     25%                   2                   3                    66   \n",
       "5     50%                   2                   3                    66   \n",
       "6     75%                  14                   3                    70   \n",
       "7     max                  53                   4                   239   \n",
       "\n",
       "  user_location_region  user_location_city orig_destination_distance  \\\n",
       "0             37670293            37670293                  24145292   \n",
       "1    308.4060117610447  27753.044729330883         1969.590628640979   \n",
       "2     208.443749738566  16782.553195680215        2232.4417766593897   \n",
       "3                    0                   0                         0   \n",
       "4                  174               13009                       313   \n",
       "5                  314               27655                      1140   \n",
       "6                  385               42413                      2552   \n",
       "7                 1027               56508                     12407   \n",
       "\n",
       "             user_id           is_mobile           is_package  ...  \\\n",
       "0           37670293            37670293             37670293  ...   \n",
       "1  604451.7531778422  0.1349265056154461  0.24890422275186444  ...   \n",
       "2  350617.4620408527  0.3416450596691772   0.4323782089918223  ...   \n",
       "3                  0                   0                    0  ...   \n",
       "4             298891                   0                    0  ...   \n",
       "5             603883                   0                    0  ...   \n",
       "6             910176                   0                    0  ...   \n",
       "7            1198785                   1                    1  ...   \n",
       "\n",
       "    srch_children_cnt         srch_rm_cnt srch_destination_id  \\\n",
       "0            37670293            37670293            37670293   \n",
       "1  0.3321221579030458  1.1126628083301608  14441.090543760836   \n",
       "2  0.7314980986397177  0.4591154996385753  11066.302332627236   \n",
       "3                   0                   0                   0   \n",
       "4                   0                   1                8267   \n",
       "5                   0                   1                9147   \n",
       "6                   0                   1               18810   \n",
       "7                   9                   8               65107   \n",
       "\n",
       "  srch_destination_type_id           is_booking                 cnt  \\\n",
       "0                 37670293             37670293            37670293   \n",
       "1       2.5822799148389954  0.07965674702875288  1.4833839227106622   \n",
       "2        2.153018959399933   0.2707610600283743   1.219775578655835   \n",
       "3                        0                    0                   1   \n",
       "4                        1                    0                   1   \n",
       "5                        1                    0                   1   \n",
       "6                        5                    0                   2   \n",
       "7                        9                    1                 269   \n",
       "\n",
       "      hotel_continent      hotel_country        hotel_market  \\\n",
       "0            37670293           37670293            37670293   \n",
       "1  3.1563047837190967  81.29685165974153    600.461883638654   \n",
       "2  1.6231886782105933  56.17118806288729  511.73912727921805   \n",
       "3                   0                  0                   0   \n",
       "4                   2                 50                 160   \n",
       "5                   2                 50                 593   \n",
       "6                   4                106                 701   \n",
       "7                   6                212                2117   \n",
       "\n",
       "        hotel_cluster  \n",
       "0            37670293  \n",
       "1   49.80860501934509  \n",
       "2  28.915950805004442  \n",
       "3                   0  \n",
       "4                  25  \n",
       "5                  49  \n",
       "6                  73  \n",
       "7                  99  \n",
       "\n",
       "[8 rows x 22 columns]"
      ]
     },
     "execution_count": 9,
     "metadata": {},
     "output_type": "execute_result"
    }
   ],
   "source": [
    "exp.summary().toPandas()"
   ]
  },
  {
   "cell_type": "code",
   "execution_count": 10,
   "metadata": {},
   "outputs": [
    {
     "data": {
      "text/html": [
       "<div>\n",
       "<style scoped>\n",
       "    .dataframe tbody tr th:only-of-type {\n",
       "        vertical-align: middle;\n",
       "    }\n",
       "\n",
       "    .dataframe tbody tr th {\n",
       "        vertical-align: top;\n",
       "    }\n",
       "\n",
       "    .dataframe thead th {\n",
       "        text-align: right;\n",
       "    }\n",
       "</style>\n",
       "<table border=\"1\" class=\"dataframe\">\n",
       "  <thead>\n",
       "    <tr style=\"text-align: right;\">\n",
       "      <th></th>\n",
       "      <th>date_time</th>\n",
       "      <th>srch_ci</th>\n",
       "      <th>srch_co</th>\n",
       "      <th>site_name</th>\n",
       "      <th>posa_continent</th>\n",
       "      <th>user_location_country</th>\n",
       "      <th>user_location_region</th>\n",
       "      <th>user_location_city</th>\n",
       "      <th>orig_destination_distance</th>\n",
       "      <th>user_id</th>\n",
       "      <th>...</th>\n",
       "      <th>srch_children_cnt</th>\n",
       "      <th>srch_rm_cnt</th>\n",
       "      <th>srch_destination_id</th>\n",
       "      <th>srch_destination_type_id</th>\n",
       "      <th>is_booking</th>\n",
       "      <th>cnt</th>\n",
       "      <th>hotel_continent</th>\n",
       "      <th>hotel_country</th>\n",
       "      <th>hotel_market</th>\n",
       "      <th>hotel_cluster</th>\n",
       "    </tr>\n",
       "  </thead>\n",
       "  <tbody>\n",
       "    <tr>\n",
       "      <th>0</th>\n",
       "      <td>0</td>\n",
       "      <td>47083</td>\n",
       "      <td>47084</td>\n",
       "      <td>0</td>\n",
       "      <td>0</td>\n",
       "      <td>0</td>\n",
       "      <td>0</td>\n",
       "      <td>0</td>\n",
       "      <td>13525001</td>\n",
       "      <td>0</td>\n",
       "      <td>...</td>\n",
       "      <td>0</td>\n",
       "      <td>0</td>\n",
       "      <td>0</td>\n",
       "      <td>0</td>\n",
       "      <td>0</td>\n",
       "      <td>0</td>\n",
       "      <td>0</td>\n",
       "      <td>0</td>\n",
       "      <td>0</td>\n",
       "      <td>0</td>\n",
       "    </tr>\n",
       "  </tbody>\n",
       "</table>\n",
       "<p>1 rows × 24 columns</p>\n",
       "</div>"
      ],
      "text/plain": [
       "   date_time  srch_ci  srch_co  site_name  posa_continent  \\\n",
       "0          0    47083    47084          0               0   \n",
       "\n",
       "   user_location_country  user_location_region  user_location_city  \\\n",
       "0                      0                     0                   0   \n",
       "\n",
       "   orig_destination_distance  user_id  ...  srch_children_cnt  srch_rm_cnt  \\\n",
       "0                   13525001        0  ...                  0            0   \n",
       "\n",
       "   srch_destination_id  srch_destination_type_id  is_booking  cnt  \\\n",
       "0                    0                         0           0    0   \n",
       "\n",
       "   hotel_continent  hotel_country  hotel_market  hotel_cluster  \n",
       "0                0              0             0              0  \n",
       "\n",
       "[1 rows x 24 columns]"
      ]
     },
     "execution_count": 10,
     "metadata": {},
     "output_type": "execute_result"
    }
   ],
   "source": [
    "# Checking of null values per column\n",
    "exp.select([count(when(isnull(c), c))\\\n",
    "            .alias(c) for c in exp.columns])\\\n",
    "            .toPandas()"
   ]
  },
  {
   "cell_type": "markdown",
   "metadata": {},
   "source": [
    "# Basic User Profiling\n",
    "\n",
    "For the first part of the analysis we will be proceeding with Spark SQL processing. Spark SQL brings native support for SQL to Spark and streamlines the process of querying data, blurring the lines between RDDs and relational tables. \n",
    "\n",
    "First we calculate the total the number of ***unique users*** who visited or booked from any of the Expedia websites.\n",
    "\n",
    "We proceeded to calculate the ***Top*** and ***Bottom*** 5 users, calculating the number of times he or she visited the websites."
   ]
  },
  {
   "cell_type": "code",
   "execution_count": 9,
   "metadata": {},
   "outputs": [
    {
     "name": "stdout",
     "output_type": "stream",
     "text": [
      "Total number of users of Expedia:\n",
      "+-------+\n",
      "|  Count|\n",
      "+-------+\n",
      "|1198786|\n",
      "+-------+\n",
      "\n",
      "Top 5 User_ID of Expedia:\n",
      "+-------+---------+\n",
      "|user_id|frequency|\n",
      "+-------+---------+\n",
      "|1187360|      530|\n",
      "|1040395|      501|\n",
      "| 124565|      498|\n",
      "|1043120|      495|\n",
      "| 783124|      491|\n",
      "+-------+---------+\n",
      "only showing top 5 rows\n",
      "\n",
      "Bottom 5 User_ID of Expedia:\n",
      "+-------+---------+\n",
      "|user_id|frequency|\n",
      "+-------+---------+\n",
      "|1148403|        2|\n",
      "| 917072|        2|\n",
      "| 106141|        2|\n",
      "|1186105|        2|\n",
      "| 922022|        2|\n",
      "+-------+---------+\n",
      "only showing top 5 rows\n",
      "\n"
     ]
    }
   ],
   "source": [
    "# User Profiling\n",
    "print(\"Total number of users of Expedia:\")\n",
    "spark.sql(\"\"\"select count(distinct user_id) as Count \n",
    "             from exp\"\"\").show(5) # Total number of unique users\n",
    "\n",
    "print(\"Top 5 User_ID of Expedia:\")\n",
    "spark.sql(\"\"\"select user_id,\n",
    "             count(user_id) as frequency \n",
    "             from exp \n",
    "             group by user_id \n",
    "             order by frequency desc\"\"\").show(5) # Top 5 users of Expedia\n",
    "\n",
    "print(\"Bottom 5 User_ID of Expedia:\")\n",
    "spark.sql(\"\"\"select user_id, \n",
    "             count(user_id) as frequency \n",
    "             from exp \n",
    "             group by user_id \n",
    "             order by frequency\"\"\").show(5) # Bottom 5 users of Expedia\n"
   ]
  },
  {
   "cell_type": "markdown",
   "metadata": {},
   "source": [
    "# Basic Site Profiling\n",
    "\n",
    "We calculate the total the number of unique ***sites*** under Expedia group from which bookings are normally done.\n",
    "\n",
    "We proceeded to calculate the ***Highest*** and ***Bottom*** 5 sites, based on popularity of users' site visit."
   ]
  },
  {
   "cell_type": "code",
   "execution_count": 10,
   "metadata": {},
   "outputs": [
    {
     "name": "stdout",
     "output_type": "stream",
     "text": [
      "Total number of Websites under Expedia:\n",
      "+-----+\n",
      "|Count|\n",
      "+-----+\n",
      "|   45|\n",
      "+-----+\n",
      "\n",
      "Top 5 Sites of Expedia:\n",
      "+---------+---------+\n",
      "|site_name|frequency|\n",
      "+---------+---------+\n",
      "|        2| 23790351|\n",
      "|       11|  2605866|\n",
      "|       24|  2363595|\n",
      "|       37|  2013818|\n",
      "|       34|  1784564|\n",
      "+---------+---------+\n",
      "only showing top 5 rows\n",
      "\n",
      "Bottom 5 Sites of Expedia:\n",
      "+---------+---------+\n",
      "|site_name|frequency|\n",
      "+---------+---------+\n",
      "|        3|        2|\n",
      "|        4|        5|\n",
      "|        5|       11|\n",
      "|       41|      903|\n",
      "|       47|     1062|\n",
      "+---------+---------+\n",
      "only showing top 5 rows\n",
      "\n"
     ]
    }
   ],
   "source": [
    "# Most and least booking from which site\n",
    "print(\"Total number of Websites under Expedia:\")\n",
    "spark.sql(\"\"\"select count(distinct site_name) as Count \n",
    "             from exp\"\"\").show()    # Total number of unique sites of Expedia\n",
    "\n",
    "print(\"Top 5 Sites of Expedia:\")\n",
    "spark.sql(\"\"\"select site_name, \n",
    "             count(site_name) as frequency \n",
    "             from exp \n",
    "             group by site_name \n",
    "             order by frequency desc\"\"\").show(5) # Top 5 sites of Expedia\n",
    "\n",
    "print(\"Bottom 5 Sites of Expedia:\")\n",
    "spark.sql(\"\"\"select site_name, \n",
    "             count(site_name) as frequency \n",
    "             from exp \n",
    "             group by site_name \n",
    "             order by frequency\"\"\").show(5) # Bottom 5 sites of Expedia"
   ]
  },
  {
   "cell_type": "markdown",
   "metadata": {},
   "source": [
    "# Booking details\n",
    "\n",
    "Among the 37670293 visits by different users, how many ***bookings*** are made in percentage?"
   ]
  },
  {
   "cell_type": "code",
   "execution_count": 11,
   "metadata": {},
   "outputs": [
    {
     "name": "stdout",
     "output_type": "stream",
     "text": [
      "Percentage of Users booked from Expedia:\n",
      "+-----------------+\n",
      "|       Percentage|\n",
      "+-----------------+\n",
      "|7.965674702875287|\n",
      "+-----------------+\n",
      "\n"
     ]
    }
   ],
   "source": [
    "# Percentage of bookings made \n",
    "print(\"Percentage of Users booked from Expedia:\")\n",
    "spark.sql(\"\"\"select((count(is_booking)* 100)/ (select count(is_booking) from exp)) as Percentage \n",
    "             from exp\n",
    "             where is_booking==1\"\"\").show()"
   ]
  },
  {
   "cell_type": "markdown",
   "metadata": {},
   "source": [
    "# Continent, Country and city profiling\n",
    "We look into the continent, city, regions and city distribution, concentrating on the places which draws the maximum visits, thus not looking into the least performing regions."
   ]
  },
  {
   "cell_type": "code",
   "execution_count": 12,
   "metadata": {},
   "outputs": [
    {
     "name": "stdout",
     "output_type": "stream",
     "text": [
      "Country and number of region:\n",
      "+---------+-------+\n",
      "|Continent|Country|\n",
      "+---------+-------+\n",
      "|        3|    231|\n",
      "|        1|    216|\n",
      "|        2|    175|\n",
      "+---------+-------+\n",
      "only showing top 3 rows\n",
      "\n",
      "Country and number of region:\n",
      "+-------+-------+\n",
      "|Country|Regions|\n",
      "+-------+-------+\n",
      "|     69|    226|\n",
      "|      1|    109|\n",
      "|     12|     76|\n",
      "+-------+-------+\n",
      "only showing top 3 rows\n",
      "\n",
      "Regions and number of cities:\n",
      "+------+------+\n",
      "|Region|Cities|\n",
      "+------+------+\n",
      "|   844|   110|\n",
      "|   664|   110|\n",
      "|   923|   108|\n",
      "+------+------+\n",
      "only showing top 3 rows\n",
      "\n"
     ]
    }
   ],
   "source": [
    "# Continent, Country and city profiling\n",
    "print(\"Country and number of region:\")\n",
    "spark.sql(\"\"\"select posa_continent as Continent, count(distinct user_location_country) as Country \n",
    "             from exp\n",
    "             group by posa_continent\n",
    "             order by Country desc\"\"\").show(3) # Continents with most number of Countries\n",
    "\n",
    "print(\"Country and number of region:\")\n",
    "spark.sql(\"\"\"select user_location_country as Country, count(distinct user_location_region) as Regions \n",
    "             from exp\n",
    "             where posa_continent == (select posa_continent as Continent \n",
    "                                             from exp\n",
    "                                             group by posa_continent\n",
    "                                             order by count(distinct user_location_country) desc limit 1)\n",
    "             group by user_location_country\n",
    "             order by Regions desc\"\"\").show(3) # Countries with most number of regions\n",
    "\n",
    "print(\"Regions and number of cities:\")\n",
    "spark.sql(\"\"\"select user_location_region as Region, count(distinct user_location_city) as Cities \n",
    "             from exp \n",
    "             where user_location_country == (select user_location_country as Country \n",
    "                                             from exp\n",
    "                                             group by user_location_country\n",
    "                                             order by count(distinct user_location_region) desc limit 1)\n",
    "             group by user_location_region\n",
    "             order by Cities desc\"\"\").show(3)# Regions with most number of cities"
   ]
  },
  {
   "cell_type": "code",
   "execution_count": 13,
   "metadata": {},
   "outputs": [
    {
     "name": "stdout",
     "output_type": "stream",
     "text": [
      "+--------------+---------------------+--------------------+------------------+\n",
      "|posa_continent|user_location_country|user_location_region|user_location_city|\n",
      "+--------------+---------------------+--------------------+------------------+\n",
      "|             5|                  237|                1008|             50447|\n",
      "+--------------+---------------------+--------------------+------------------+\n",
      "\n"
     ]
    }
   ],
   "source": [
    "exp.select([countDistinct(c).alias(c)\\\n",
    "                           for c in [\"posa_continent\",\\\n",
    "                                     \"user_location_country\",\\\n",
    "                                     \"user_location_region\",\\\n",
    "                                     \"user_location_city\"]]).show() # Distinct values in each column                                   "
   ]
  },
  {
   "cell_type": "markdown",
   "metadata": {},
   "source": [
    "# Booking vs Geographic Distribution\n",
    "In the following Analysis, we check which ***continent*** leads the ***booking counts*** among the others, and drilling down which ***country and region*** within that continent, provides the maximum numbers."
   ]
  },
  {
   "cell_type": "code",
   "execution_count": 14,
   "metadata": {},
   "outputs": [
    {
     "name": "stdout",
     "output_type": "stream",
     "text": [
      "Percentage of Users booked from Expedia per continent:\n",
      "+---------+----------+\n",
      "|Continent|Percentage|\n",
      "+---------+----------+\n",
      "|        3|      6.22|\n",
      "|        1|      0.93|\n",
      "|        2|      0.55|\n",
      "|        4|      0.21|\n",
      "|        0|      0.05|\n",
      "+---------+----------+\n",
      "\n",
      "Percentage of Users booked from Expedia per country in top continent:\n",
      "+-------+----------+\n",
      "|Country|Percentage|\n",
      "+-------+----------+\n",
      "|     66|      4.41|\n",
      "|    205|      0.91|\n",
      "|    215|      0.09|\n",
      "+-------+----------+\n",
      "only showing top 3 rows\n",
      "\n",
      "Percentage of Users booked from Expedia per Region in top country:\n",
      "+------+----------+\n",
      "|Region|Percentage|\n",
      "+------+----------+\n",
      "|   174|       0.9|\n",
      "|   348|      0.35|\n",
      "|   442|      0.33|\n",
      "+------+----------+\n",
      "only showing top 3 rows\n",
      "\n"
     ]
    }
   ],
   "source": [
    "# Most and least booking from which continent and country\n",
    "print(\"Percentage of Users booked from Expedia per continent:\")\n",
    "spark.sql(\"\"\"select posa_continent as Continent,\n",
    "             round(((count(is_booking)* 100)/ (select count(is_booking) from exp)),2) as Percentage \n",
    "             from exp\n",
    "             where is_booking==1\n",
    "             group by posa_continent\n",
    "             order by Percentage desc\"\"\").show() # top continent in terms of booking\n",
    "\n",
    "print(\"Percentage of Users booked from Expedia per country in top continent:\")\n",
    "spark.sql(\"\"\"select user_location_country as Country,\n",
    "             round(((count(is_booking)* 100)/ (select count(is_booking) from exp)),2) as Percentage \n",
    "             from exp\n",
    "             where is_booking==1 and posa_continent == (select posa_continent from exp \n",
    "                                                where is_booking==1\n",
    "                                                group by posa_continent \n",
    "                                                order by ((count(is_booking)* 100)/ (select count(is_booking) from exp)) \n",
    "                                                desc limit 1)\n",
    "             group by user_location_country\n",
    "             order by Percentage desc\"\"\").show(3) # top country within that continent generates maximum booking\n",
    "\n",
    "print(\"Percentage of Users booked from Expedia per Region in top country:\")\n",
    "spark.sql(\"\"\"select user_location_region as Region,\n",
    "             round(((count(is_booking)* 100)/ (select count(is_booking) from exp)),2) as Percentage \n",
    "             from exp\n",
    "             where is_booking==1 and user_location_country == (select user_location_country from exp \n",
    "                                        where is_booking==1 and posa_continent == (select posa_continent from exp \n",
    "                                        group by posa_continent \n",
    "                                        order by ((count(is_booking)* 100)/ (select count(is_booking) from exp)) \n",
    "                                        desc limit 1)\n",
    "                                        group by user_location_country \n",
    "                                        order by ((count(is_booking)* 100)/ (select count(is_booking) from exp)) \n",
    "                                        desc limit 1) \n",
    "             group by user_location_region\n",
    "             order by Percentage desc\"\"\").show(3) # top region generating maximum booking"
   ]
  },
  {
   "cell_type": "markdown",
   "metadata": {},
   "source": [
    "# Time Profiling-Booking\n",
    "\n",
    "The following Analysis, is done based on the logged date. We take ***date_time*** as base and proceed with the analysis. This analysis block concentrates on the logs where the user books a hotel, instead of just surfing the website.\n",
    "\n",
    "First we check which ***year***, has the maximum bookings.\n",
    "\n",
    "Second we concentrate on ***months***, which months draws maximum bookings and which months users tends to book less.\n",
    "\n",
    "Followed by, on which ***weekdays***, users booked more than the other days, also finding the weekdays users booked less.\n",
    "\n",
    "And finally, what ***time of the day***, Expedia had a surge in booking and also the time, when user booked less.\n",
    "\n",
    "One thing to be kept in mind, the timestamp do not have any information about time zones, so we consider date_time to be in local time zone of that of the user."
   ]
  },
  {
   "cell_type": "code",
   "execution_count": 15,
   "metadata": {
    "scrolled": true
   },
   "outputs": [
    {
     "name": "stdout",
     "output_type": "stream",
     "text": [
      "Most and Least booking Year :\n",
      "+----+---------+\n",
      "|Year|frequency|\n",
      "+----+---------+\n",
      "|2014|  1976304|\n",
      "|2013|  1024389|\n",
      "+----+---------+\n",
      "\n",
      "Most booking Month :\n",
      "+-----+---------+\n",
      "|Month|frequency|\n",
      "+-----+---------+\n",
      "|   10|   293607|\n",
      "|    8|   290455|\n",
      "|    7|   290360|\n",
      "+-----+---------+\n",
      "only showing top 3 rows\n",
      "\n",
      "Least booking Month :\n",
      "+-----+---------+\n",
      "|Month|frequency|\n",
      "+-----+---------+\n",
      "|    1|   169605|\n",
      "|    2|   175676|\n",
      "|    3|   226372|\n",
      "+-----+---------+\n",
      "only showing top 3 rows\n",
      "\n",
      "Most booking Weekday :\n",
      "+----+---------+\n",
      "|Week|frequency|\n",
      "+----+---------+\n",
      "|   2|   490445|\n",
      "|   3|   488571|\n",
      "|   4|   487537|\n",
      "+----+---------+\n",
      "only showing top 3 rows\n",
      "\n",
      "Least booking Weekday :\n",
      "+----+---------+\n",
      "|Week|frequency|\n",
      "+----+---------+\n",
      "|   7|   310993|\n",
      "|   1|   359963|\n",
      "|   6|   418085|\n",
      "+----+---------+\n",
      "only showing top 3 rows\n",
      "\n",
      "Most booking Hour :\n",
      "+----+---------+\n",
      "|Hour|frequency|\n",
      "+----+---------+\n",
      "|  11|   195819|\n",
      "|  12|   191621|\n",
      "|  13|   187352|\n",
      "+----+---------+\n",
      "only showing top 3 rows\n",
      "\n",
      "Least booking Hour :\n",
      "+----+---------+\n",
      "|Hour|frequency|\n",
      "+----+---------+\n",
      "|   3|    27251|\n",
      "|   2|    28483|\n",
      "|   4|    35147|\n",
      "+----+---------+\n",
      "only showing top 3 rows\n",
      "\n"
     ]
    }
   ],
   "source": [
    "# Most and least frequent booking times\n",
    "print (\"Most and Least booking Year :\")\n",
    "spark.sql(\"\"\"select extract( year from date_time) as Year, count(extract(year from date_time)) as frequency \n",
    "             from exp\n",
    "             where is_booking==1\n",
    "             group by extract(year from date_time)\n",
    "             order by frequency desc \n",
    "             \"\"\").show() # Most and least frequent booking times per year\n",
    "\n",
    "print (\"Most booking Month :\")\n",
    "spark.sql(\"\"\"select extract( month from date_time) as Month, count(extract(month from date_time)) as frequency \n",
    "             from exp\n",
    "             where is_booking==1\n",
    "             group by extract(month from date_time)\n",
    "             order by frequency desc\n",
    "             \"\"\").show(3) # Most frequent booking times grouped by months\n",
    "\n",
    "print (\"Least booking Month :\")\n",
    "spark.sql(\"\"\"select extract( month from date_time) as Month, count(extract(month from date_time)) as frequency \n",
    "             from exp\n",
    "             where is_booking==1\n",
    "             group by extract(month from date_time)\n",
    "             order by frequency\n",
    "             \"\"\").show(3)  # Least frequent booking times grouped by months\n",
    "\n",
    "print (\"Most booking Weekday :\")\n",
    "spark.sql(\"\"\"select extract( dayofweek from date_time) as Week, count(extract(dayofweek from date_time)) as frequency \n",
    "             from exp\n",
    "             where is_booking==1\n",
    "             group by extract(dayofweek from date_time)\n",
    "             order by frequency desc\n",
    "             \"\"\").show(3) # Most frequent booking times grouped by weekday\n",
    "\n",
    "print (\"Least booking Weekday :\")\n",
    "spark.sql(\"\"\"select extract( dayofweek from date_time) as Week, count(extract(dayofweek from date_time)) as frequency \n",
    "             from exp\n",
    "             where is_booking==1\n",
    "             group by extract(dayofweek from date_time)\n",
    "             order by frequency\n",
    "             \"\"\").show(3) # Least frequent booking times grouped by weekday\n",
    "\n",
    "print (\"Most booking Hour :\")\n",
    "spark.sql(\"\"\"select extract( hour from date_time) as Hour, count(extract(hour from date_time)) as frequency \n",
    "             from exp\n",
    "             where is_booking==1\n",
    "             group by extract(hour from date_time)\n",
    "             order by frequency desc\n",
    "             \"\"\").show(3) # Most frequent booking times grouped by hour, focusing on time of the day\n",
    "\n",
    "print (\"Least booking Hour :\")\n",
    "spark.sql(\"\"\"select extract( hour from date_time) as Hour, count(extract(hour from date_time)) as frequency \n",
    "             from exp\n",
    "             where is_booking==1\n",
    "             group by extract(hour from date_time)\n",
    "             order by frequency\n",
    "             \"\"\").show(3) # Least frequent booking times grouped by hour"
   ]
  },
  {
   "cell_type": "markdown",
   "metadata": {},
   "source": [
    "# Time Profiling-Website Visits\n",
    "\n",
    "We did a similar analysis, but this time focusing on the visits only rather than booking, the attribute in focus is ***date_time**, business questions change accordingly.\n",
    "\n",
    "First we check which ***year***, has the maximum visits, but no booking.\n",
    "\n",
    "Second we concentrate on ***months***, which months draws maximum visits and which months has less traffic.\n",
    "\n",
    "Followed by, on which ***weekdays***, users visited more the Expedia sites, also finding the weekdays users visited less.\n",
    "\n",
    "And finally, what ***time of the day***, Expedia had a surge in web traffic, but no booking and also the time, when user tend to surf the sites less.\n"
   ]
  },
  {
   "cell_type": "code",
   "execution_count": 16,
   "metadata": {},
   "outputs": [
    {
     "name": "stdout",
     "output_type": "stream",
     "text": [
      "Most and Least visits Year :\n",
      "+----+---------+\n",
      "|Year|frequency|\n",
      "+----+---------+\n",
      "|2014| 24507108|\n",
      "|2013| 10162492|\n",
      "+----+---------+\n",
      "\n",
      "Most surfing Month :\n",
      "+-----+---------+\n",
      "|Month|frequency|\n",
      "+-----+---------+\n",
      "|    7|  3603207|\n",
      "|    8|  3483275|\n",
      "|   12|  3475183|\n",
      "+-----+---------+\n",
      "only showing top 3 rows\n",
      "\n",
      "Least surfing Month :\n",
      "+-----+---------+\n",
      "|Month|frequency|\n",
      "+-----+---------+\n",
      "|    1|  1783760|\n",
      "|    2|  1799696|\n",
      "|    4|  2482251|\n",
      "+-----+---------+\n",
      "only showing top 3 rows\n",
      "\n",
      "Most surfing Weekday :\n",
      "+----+---------+\n",
      "|Week|frequency|\n",
      "+----+---------+\n",
      "|   2|  5587905|\n",
      "|   3|  5577405|\n",
      "|   4|  5572597|\n",
      "+----+---------+\n",
      "only showing top 3 rows\n",
      "\n",
      "Least surfing Weekday :\n",
      "+----+---------+\n",
      "|Week|frequency|\n",
      "+----+---------+\n",
      "|   7|  3896677|\n",
      "|   6|  4448850|\n",
      "|   1|  4652434|\n",
      "+----+---------+\n",
      "only showing top 3 rows\n",
      "\n",
      "Most surfing Hour :\n",
      "+----+---------+\n",
      "|Hour|frequency|\n",
      "+----+---------+\n",
      "|  18|  2083299|\n",
      "|  11|  2071005|\n",
      "|  19|  2059948|\n",
      "+----+---------+\n",
      "only showing top 3 rows\n",
      "\n",
      "Least surfing Hour :\n",
      "+----+---------+\n",
      "|Hour|frequency|\n",
      "+----+---------+\n",
      "|   3|   327910|\n",
      "|   2|   344702|\n",
      "|   4|   412003|\n",
      "+----+---------+\n",
      "only showing top 3 rows\n",
      "\n"
     ]
    }
   ],
   "source": [
    "# Most and least frequent surfing times\n",
    "print (\"Most and Least visits Year :\")\n",
    "spark.sql(\"\"\"select extract( year from date_time) as Year, count(extract(year from date_time)) as frequency \n",
    "             from exp\n",
    "             where is_booking==0\n",
    "             group by extract(year from date_time)\n",
    "             order by frequency desc \n",
    "             \"\"\").show() # Most and least frequent only visits (without booking) per year\n",
    "\n",
    "print (\"Most surfing Month :\")\n",
    "spark.sql(\"\"\"select extract( month from date_time) as Month, count(extract(month from date_time)) as frequency \n",
    "             from exp\n",
    "             where is_booking==0\n",
    "             group by extract(month from date_time)\n",
    "             order by frequency desc\n",
    "             \"\"\").show(3) # Most frequent visits grouped by months\n",
    "\n",
    "print (\"Least surfing Month :\")\n",
    "spark.sql(\"\"\"select extract( month from date_time) as Month, count(extract(month from date_time)) as frequency \n",
    "             from exp\n",
    "             where is_booking==0\n",
    "             group by extract(month from date_time)\n",
    "             order by frequency\n",
    "             \"\"\").show(3) # Least frequent visits grouped by months\n",
    "\n",
    "print (\"Most surfing Weekday :\")\n",
    "spark.sql(\"\"\"select extract( dayofweek from date_time) as Week, count(extract(dayofweek from date_time)) as frequency \n",
    "             from exp\n",
    "             where is_booking==0\n",
    "             group by extract(dayofweek from date_time)\n",
    "             order by frequency desc\n",
    "             \"\"\").show(3) # Most frequent visits grouped by weekday\n",
    "\n",
    "print (\"Least surfing Weekday :\")\n",
    "spark.sql(\"\"\"select extract( dayofweek from date_time) as Week, count(extract(dayofweek from date_time)) as frequency \n",
    "             from exp\n",
    "             where is_booking==0\n",
    "             group by extract(dayofweek from date_time)\n",
    "             order by frequency\n",
    "             \"\"\").show(3) # Least frequent visits grouped by weekday\n",
    "\n",
    "print (\"Most surfing Hour :\")\n",
    "spark.sql(\"\"\"select extract( hour from date_time) as Hour, count(extract(hour from date_time)) as frequency \n",
    "             from exp\n",
    "             where is_booking==0\n",
    "             group by extract(hour from date_time)\n",
    "             order by frequency desc\n",
    "             \"\"\").show(3) # Most frequent visits grouped by hour, focusing on the time\n",
    "\n",
    "print (\"Least surfing Hour :\")\n",
    "spark.sql(\"\"\"select extract( hour from date_time) as Hour, count(extract(hour from date_time)) as frequency \n",
    "             from exp\n",
    "             where is_booking==0\n",
    "             group by extract(hour from date_time)\n",
    "             order by frequency\n",
    "             \"\"\").show(3) # Least frequent visits grouped by hour"
   ]
  },
  {
   "cell_type": "markdown",
   "metadata": {},
   "source": [
    "# Search date Profiling\n",
    "\n",
    "We try to analyze the search date by the users, we have to keep in mind that attributes ***srch-ci*** and ***srch_co*** have null values, but with respect to the size of the full dataset, we decided not to include those columns in this analysis. Also, another factor to be kept in mind, is that, the search dates, specifically the ***srch_ci*** (Check-in Date) should be greater than or equal to the ***date_time*** attribute. Analysis are as follows:\n",
    "\n",
    "First, we check the average booking nights per holidaying ***year***.\n",
    "\n",
    "Second we check which are the ***months***, in which users has a higher booking nights ***average***. Here, we need another analysis, about the ***total count*** as when we consider average, we tend to miss the information for the total bookings made, which in this use case plays an important role for the analysis"
   ]
  },
  {
   "cell_type": "code",
   "execution_count": 17,
   "metadata": {},
   "outputs": [
    {
     "name": "stdout",
     "output_type": "stream",
     "text": [
      "Average number of days for holidays per year\n",
      "+----+--------+---------+\n",
      "|Year|avg_days|frequency|\n",
      "+----+--------+---------+\n",
      "|2023|   366.0|        7|\n",
      "|2019|   366.0|        2|\n",
      "|2018|   365.0|        9|\n",
      "|2030|   365.0|        1|\n",
      "|2028|   365.0|        1|\n",
      "|2022|   365.0|        7|\n",
      "|2024|   365.0|        1|\n",
      "|2026|   365.0|        1|\n",
      "|2025|   365.0|        1|\n",
      "|2021|   365.0|        1|\n",
      "|2017|    95.0|        4|\n",
      "|2057|     5.0|        2|\n",
      "|2015|    4.35|  4338513|\n",
      "|2016|    4.11|     2701|\n",
      "|2013|    3.24|  9851824|\n",
      "|2014|    3.24| 23420868|\n",
      "|2557|     1.4|        5|\n",
      "|2027|     1.0|        1|\n",
      "|2558|     1.0|        1|\n",
      "+----+--------+---------+\n",
      "\n",
      "Average number of days for holidays per Month, arranged based on booking night average\n",
      "+----+--------+---------+\n",
      "|Year|avg_days|frequency|\n",
      "+----+--------+---------+\n",
      "|   2|    3.76|  2044738|\n",
      "|   1|    3.63|  2423757|\n",
      "|  12|    3.59|  4393262|\n",
      "|   3|    3.58|  2533151|\n",
      "|   4|    3.45|  2564731|\n",
      "|   6|    3.32|  2983740|\n",
      "|   7|    3.32|  3665089|\n",
      "|   8|    3.27|  4227018|\n",
      "|   5|    3.23|  2814012|\n",
      "|  11|     3.2|  3200943|\n",
      "|   9|    3.19|  3259343|\n",
      "|  10|    3.13|  3504166|\n",
      "+----+--------+---------+\n",
      "\n",
      "Average number of days for holidays per Month, arranged based on frequency count\n",
      "+----+--------+---------+\n",
      "|Year|avg_days|frequency|\n",
      "+----+--------+---------+\n",
      "|  12|    3.59|  4393262|\n",
      "|   8|    3.27|  4227018|\n",
      "|   7|    3.32|  3665089|\n",
      "|  10|    3.13|  3504166|\n",
      "|   9|    3.19|  3259343|\n",
      "|  11|     3.2|  3200943|\n",
      "|   6|    3.32|  2983740|\n",
      "|   5|    3.23|  2814012|\n",
      "|   4|    3.45|  2564731|\n",
      "|   3|    3.58|  2533151|\n",
      "|   1|    3.63|  2423757|\n",
      "|   2|    3.76|  2044738|\n",
      "+----+--------+---------+\n",
      "\n"
     ]
    }
   ],
   "source": [
    "# Average number of days for holidays\n",
    "print(\"Average number of days for holidays per year\")\n",
    "spark.sql(\"\"\"select extract(year from srch_ci) as Year, round(avg(datediff(srch_co,srch_ci)),2) as avg_days, \n",
    "             count(extract(year from srch_ci)) as frequency\n",
    "             from exp where \n",
    "             (srch_ci is not null and srch_co is not null) and\n",
    "             srch_ci>=cast(date_time AS date) and\n",
    "             srch_ci<=srch_co\n",
    "             group by extract(year from srch_ci)\n",
    "             order by avg_days desc\n",
    "             \"\"\").show() # Average booking nights grouped by holidaying year\n",
    "\n",
    "print(\"Average number of days for holidays per Month, arranged based on booking night average\")\n",
    "spark.sql(\"\"\"select extract(month from srch_ci) as Year, round(avg(datediff(srch_co,srch_ci)),2) as avg_days, \n",
    "             count(extract(month from srch_ci)) as frequency\n",
    "             from exp where \n",
    "             (srch_ci is not null and srch_co is not null) and\n",
    "             srch_ci>=cast(date_time AS date) and\n",
    "             srch_ci<=srch_co\n",
    "             group by extract(month from srch_ci)\n",
    "             order by avg_days desc\n",
    "             \"\"\").show() # Grouped by months, arranged based on booking night average\n",
    "\n",
    "print(\"Average number of days for holidays per Month, arranged based on frequency count\")\n",
    "spark.sql(\"\"\"select extract(month from srch_ci) as Year, round(avg(datediff(srch_co,srch_ci)),2) as avg_days, \n",
    "             count(extract(month from srch_ci)) as frequency\n",
    "             from exp where \n",
    "             (srch_ci is not null and srch_co is not null) and\n",
    "             srch_ci>=cast(date_time AS date) and\n",
    "             srch_ci<=srch_co\n",
    "             group by extract(month from srch_ci)\n",
    "             order by frequency desc\n",
    "             \"\"\").show() # Grouped by months, arranged based on frequency count"
   ]
  },
  {
   "cell_type": "markdown",
   "metadata": {},
   "source": [
    "# Destination Profilings\n",
    "\n",
    "In the second part of the analysis, we would be working with the ***destination***, thus taking only the specific columns needed for the analysis, for saving computation time. This part of the analysis will be mainly based on ***origin destination distance*** and the ***destination details***. And we will be using ***Dataframe API*** for this part of the analysis.\n",
    "\n",
    "One assumption made in the following part of the analysis is the ***user_location details*** and ***origin*** is assumed to be the same place."
   ]
  },
  {
   "cell_type": "code",
   "execution_count": 18,
   "metadata": {},
   "outputs": [],
   "source": [
    "# Weekdays when most and least bookings were searched\n",
    "exp_dest_hotelprof = spark.read.parquet(\"../Spark_Assignment/Expedia/parquet/\")\n",
    "exp_dest_hotelprof = exp_dest_hotelprof.select(col('orig_destination_distance').cast(\"int\"),\n",
    "                                               col('user_id').cast(\"int\"),\n",
    "                                               col('srch_destination_id').cast(\"int\"),\n",
    "                                               col('srch_destination_type_id').cast(\"int\"),\n",
    "                                               col('is_booking').cast(\"int\"),\n",
    "                                               col('cnt').cast(\"int\"),\n",
    "                                               col('hotel_continent').cast(\"int\"),\n",
    "                                               col('hotel_country').cast(\"int\"),\n",
    "                                               col('hotel_market').cast(\"int\"),\n",
    "                                               col('hotel_cluster').cast(\"int\"))"
   ]
  },
  {
   "cell_type": "code",
   "execution_count": 20,
   "metadata": {},
   "outputs": [
    {
     "name": "stdout",
     "output_type": "stream",
     "text": [
      "+-------------------------+-------+-------------------+------------------------+----------+---+---------------+-------------+------------+-------------+\n",
      "|orig_destination_distance|user_id|srch_destination_id|srch_destination_type_id|is_booking|cnt|hotel_continent|hotel_country|hotel_market|hotel_cluster|\n",
      "+-------------------------+-------+-------------------+------------------------+----------+---+---------------+-------------+------------+-------------+\n",
      "|1274                     |778989 |31643              |4                       |0         |1  |4              |8            |118         |20           |\n",
      "|1274                     |778989 |31643              |4                       |0         |1  |4              |8            |118         |7            |\n",
      "|1273                     |778989 |31643              |4                       |0         |1  |4              |8            |118         |85           |\n",
      "|1275                     |778989 |31643              |4                       |0         |5  |4              |8            |118         |34           |\n",
      "|1275                     |778989 |31643              |4                       |0         |1  |4              |8            |118         |55           |\n",
      "+-------------------------+-------+-------------------+------------------------+----------+---+---------------+-------------+------------+-------------+\n",
      "only showing top 5 rows\n",
      "\n"
     ]
    }
   ],
   "source": [
    "# see if the dataframe has only the required attributes\n",
    "exp_dest_hotelprof.select(\"*\").show(5,False)"
   ]
  },
  {
   "cell_type": "markdown",
   "metadata": {},
   "source": [
    "# Basic Statistics "
   ]
  },
  {
   "cell_type": "code",
   "execution_count": 21,
   "metadata": {},
   "outputs": [
    {
     "data": {
      "text/html": [
       "<div>\n",
       "<style scoped>\n",
       "    .dataframe tbody tr th:only-of-type {\n",
       "        vertical-align: middle;\n",
       "    }\n",
       "\n",
       "    .dataframe tbody tr th {\n",
       "        vertical-align: top;\n",
       "    }\n",
       "\n",
       "    .dataframe thead th {\n",
       "        text-align: right;\n",
       "    }\n",
       "</style>\n",
       "<table border=\"1\" class=\"dataframe\">\n",
       "  <thead>\n",
       "    <tr style=\"text-align: right;\">\n",
       "      <th></th>\n",
       "      <th>summary</th>\n",
       "      <th>orig_destination_distance</th>\n",
       "      <th>user_id</th>\n",
       "      <th>srch_destination_id</th>\n",
       "      <th>srch_destination_type_id</th>\n",
       "      <th>is_booking</th>\n",
       "      <th>cnt</th>\n",
       "      <th>hotel_continent</th>\n",
       "      <th>hotel_country</th>\n",
       "      <th>hotel_market</th>\n",
       "      <th>hotel_cluster</th>\n",
       "    </tr>\n",
       "  </thead>\n",
       "  <tbody>\n",
       "    <tr>\n",
       "      <th>0</th>\n",
       "      <td>count</td>\n",
       "      <td>24145292</td>\n",
       "      <td>37670293</td>\n",
       "      <td>37670293</td>\n",
       "      <td>37670293</td>\n",
       "      <td>37670293</td>\n",
       "      <td>37670293</td>\n",
       "      <td>37670293</td>\n",
       "      <td>37670293</td>\n",
       "      <td>37670293</td>\n",
       "      <td>37670293</td>\n",
       "    </tr>\n",
       "    <tr>\n",
       "      <th>1</th>\n",
       "      <td>mean</td>\n",
       "      <td>1969.590628640979</td>\n",
       "      <td>604451.7531778422</td>\n",
       "      <td>14441.090543760836</td>\n",
       "      <td>2.5822799148389954</td>\n",
       "      <td>0.07965674702875288</td>\n",
       "      <td>1.4833839227106622</td>\n",
       "      <td>3.1563047837190967</td>\n",
       "      <td>81.29685165974153</td>\n",
       "      <td>600.461883638654</td>\n",
       "      <td>49.80860501934509</td>\n",
       "    </tr>\n",
       "    <tr>\n",
       "      <th>2</th>\n",
       "      <td>stddev</td>\n",
       "      <td>2232.4417766593897</td>\n",
       "      <td>350617.4620408527</td>\n",
       "      <td>11066.302332627236</td>\n",
       "      <td>2.153018959399933</td>\n",
       "      <td>0.2707610600283743</td>\n",
       "      <td>1.219775578655835</td>\n",
       "      <td>1.6231886782105933</td>\n",
       "      <td>56.17118806288729</td>\n",
       "      <td>511.73912727921805</td>\n",
       "      <td>28.915950805004442</td>\n",
       "    </tr>\n",
       "    <tr>\n",
       "      <th>3</th>\n",
       "      <td>min</td>\n",
       "      <td>0</td>\n",
       "      <td>0</td>\n",
       "      <td>0</td>\n",
       "      <td>0</td>\n",
       "      <td>0</td>\n",
       "      <td>1</td>\n",
       "      <td>0</td>\n",
       "      <td>0</td>\n",
       "      <td>0</td>\n",
       "      <td>0</td>\n",
       "    </tr>\n",
       "    <tr>\n",
       "      <th>4</th>\n",
       "      <td>max</td>\n",
       "      <td>12407</td>\n",
       "      <td>1198785</td>\n",
       "      <td>65107</td>\n",
       "      <td>9</td>\n",
       "      <td>1</td>\n",
       "      <td>269</td>\n",
       "      <td>6</td>\n",
       "      <td>212</td>\n",
       "      <td>2117</td>\n",
       "      <td>99</td>\n",
       "    </tr>\n",
       "  </tbody>\n",
       "</table>\n",
       "</div>"
      ],
      "text/plain": [
       "  summary orig_destination_distance            user_id srch_destination_id  \\\n",
       "0   count                  24145292           37670293            37670293   \n",
       "1    mean         1969.590628640979  604451.7531778422  14441.090543760836   \n",
       "2  stddev        2232.4417766593897  350617.4620408527  11066.302332627236   \n",
       "3     min                         0                  0                   0   \n",
       "4     max                     12407            1198785               65107   \n",
       "\n",
       "  srch_destination_type_id           is_booking                 cnt  \\\n",
       "0                 37670293             37670293            37670293   \n",
       "1       2.5822799148389954  0.07965674702875288  1.4833839227106622   \n",
       "2        2.153018959399933   0.2707610600283743   1.219775578655835   \n",
       "3                        0                    0                   1   \n",
       "4                        9                    1                 269   \n",
       "\n",
       "      hotel_continent      hotel_country        hotel_market  \\\n",
       "0            37670293           37670293            37670293   \n",
       "1  3.1563047837190967  81.29685165974153    600.461883638654   \n",
       "2  1.6231886782105933  56.17118806288729  511.73912727921805   \n",
       "3                   0                  0                   0   \n",
       "4                   6                212                2117   \n",
       "\n",
       "        hotel_cluster  \n",
       "0            37670293  \n",
       "1   49.80860501934509  \n",
       "2  28.915950805004442  \n",
       "3                   0  \n",
       "4                  99  "
      ]
     },
     "execution_count": 21,
     "metadata": {},
     "output_type": "execute_result"
    }
   ],
   "source": [
    "#Understand the basic statistics of the resulting dataset\n",
    "exp_dest_hotelprof_sum = exp_dest_hotelprof.describe()\n",
    "exp_dest_hotelprof_sum.toPandas()"
   ]
  },
  {
   "cell_type": "markdown",
   "metadata": {},
   "source": [
    "# Reframing the dataframe\n",
    "As we are only concentrating on the dataframe we will be focusing on the cases where the users after searching books successfully. Thus, we reframe our dataframe with only the cases which only converts to booking."
   ]
  },
  {
   "cell_type": "code",
   "execution_count": 19,
   "metadata": {},
   "outputs": [],
   "source": [
    "exp_dest_hotelprof = exp_dest_hotelprof\\\n",
    "                        .where(exp_dest_hotelprof[\"is_booking\"]==1)"
   ]
  },
  {
   "cell_type": "markdown",
   "metadata": {},
   "source": [
    "**Check the number of null values**"
   ]
  },
  {
   "cell_type": "code",
   "execution_count": 20,
   "metadata": {},
   "outputs": [
    {
     "name": "stdout",
     "output_type": "stream",
     "text": [
      "Checking for nulls on columns orig_destination_distance, srch_destination_id and hotel_cluster:\n",
      "+-------------------------+-------------------+-------------+\n",
      "|orig_destination_distance|srch_destination_id|hotel_cluster|\n",
      "+-------------------------+-------------------+-------------+\n",
      "|                  1015179|                  0|            0|\n",
      "+-------------------------+-------------------+-------------+\n",
      "\n"
     ]
    }
   ],
   "source": [
    "print(\"Checking for nulls on columns orig_destination_distance, srch_destination_id and hotel_cluster:\")\n",
    "exp_dest_hotelprof.select([count(when(col(c).isNull(), c))\\\n",
    "                           .alias(c) for c in [\"orig_destination_distance\",\\\n",
    "                                               \"srch_destination_id\",\\\n",
    "                                               \"hotel_cluster\"]]).show()"
   ]
  },
  {
   "cell_type": "markdown",
   "metadata": {},
   "source": [
    "**Replace the null values of orig_destination_distance to -1 which will be considered as invalid**"
   ]
  },
  {
   "cell_type": "code",
   "execution_count": 21,
   "metadata": {},
   "outputs": [],
   "source": [
    "# Replace NA from orig_dest_distance to -1\n",
    "exp_dest_hotelprof = exp_dest_hotelprof.fillna(-1, subset=[\"orig_destination_distance\"])"
   ]
  },
  {
   "cell_type": "markdown",
   "metadata": {},
   "source": [
    "**Check if the null values got replaced**"
   ]
  },
  {
   "cell_type": "code",
   "execution_count": 22,
   "metadata": {},
   "outputs": [
    {
     "name": "stdout",
     "output_type": "stream",
     "text": [
      "Checking for nulls on columns orig_destination_distance, srch_destination_id and hotel_cluster:\n",
      "+-------------------------+-------------------+-------------+\n",
      "|orig_destination_distance|srch_destination_id|hotel_cluster|\n",
      "+-------------------------+-------------------+-------------+\n",
      "|                        0|                  0|            0|\n",
      "+-------------------------+-------------------+-------------+\n",
      "\n"
     ]
    }
   ],
   "source": [
    "print(\"Checking for nulls on columns orig_destination_distance, srch_destination_id and hotel_cluster:\")\n",
    "exp_dest_hotelprof.select([count(when(col(c).isNull(), c))\\\n",
    "                           .alias(c) for c in [\"orig_destination_distance\",\\\n",
    "                                               \"srch_destination_id\",\\\n",
    "                                               \"hotel_cluster\"]]).show()"
   ]
  },
  {
   "cell_type": "markdown",
   "metadata": {},
   "source": [
    "**Checking the Distinct destination Values of the attributes**"
   ]
  },
  {
   "cell_type": "code",
   "execution_count": 23,
   "metadata": {},
   "outputs": [
    {
     "name": "stdout",
     "output_type": "stream",
     "text": [
      "Checking amount of distinct values in columns srch_destination_type_id, hotel_continent, hotel_country, hotel_market, hotel_cluster:\n",
      "+------------------------+---------------+-------------+------------+-------------+\n",
      "|srch_destination_type_id|hotel_continent|hotel_country|hotel_market|hotel_cluster|\n",
      "+------------------------+---------------+-------------+------------+-------------+\n",
      "|                       9|              7|          205|        2103|          100|\n",
      "+------------------------+---------------+-------------+------------+-------------+\n",
      "\n"
     ]
    }
   ],
   "source": [
    "print(\"Checking amount of distinct values in columns srch_destination_type_id, hotel_continent, hotel_country, hotel_market, hotel_cluster:\")\n",
    "exp_dest_hotelprof.select([countDistinct(c).alias(c)\\\n",
    "                           for c in [\"srch_destination_type_id\",\\\n",
    "                                     \"hotel_continent\",\\\n",
    "                                     \"hotel_country\",\\\n",
    "                                     \"hotel_market\",\\\n",
    "                                     \"hotel_cluster\"]]).show()"
   ]
  },
  {
   "cell_type": "markdown",
   "metadata": {},
   "source": [
    "# Destination Profiling\n",
    "\n",
    "In the following analysis, we will query about the least and most frquency count for the following attributes:\n",
    "\n",
    "1. srch_destination_type_id\n",
    "2. hotel_continent\n",
    "3. hotel_country\n",
    "4. hotel_market\n",
    "5. hotel_cluster\n",
    "\n",
    "This analysis provides with a overall idea in the destination category."
   ]
  },
  {
   "cell_type": "code",
   "execution_count": 24,
   "metadata": {},
   "outputs": [
    {
     "name": "stdout",
     "output_type": "stream",
     "text": [
      "Most and least frequent occurrences for Hotel_continent, hotel_country, hotel_market and hotel_cluster columns:\n"
     ]
    },
    {
     "data": {
      "text/markdown": [
       "\n",
       "| least_srch_dest_type | most_srch_dest_type | least_hotel_continent | most_hotel_continent | least_hotel_country | most_hotel_country |\n",
       "|----|----|----|----|----|----|\n",
       "| 0 (1 counts) | 1 (1634546 counts) | 1 (11 counts) | 2 (1813283 counts) | 91 (1 counts) | 50 (1616055 counts) |\n"
      ],
      "text/plain": [
       "<IPython.core.display.Markdown object>"
      ]
     },
     "metadata": {},
     "output_type": "display_data"
    },
    {
     "data": {
      "text/markdown": [
       "\n",
       "| least_hotel_market | most_hotel_market | least_hotel_cluster | most_hotel_cluster |\n",
       "|----|----|----|----|\n",
       "| 1199 (1 counts) | 628 (130374 counts) | 74 (2465 counts) | 91 (120972 counts) |\n"
      ],
      "text/plain": [
       "<IPython.core.display.Markdown object>"
      ]
     },
     "metadata": {},
     "output_type": "display_data"
    }
   ],
   "source": [
    "print (\"Most and least frequent occurrences for Hotel_continent, hotel_country, hotel_market and hotel_cluster columns:\")\n",
    "srch_dest_type_df  = exp_dest_hotelprof.groupBy(\"srch_destination_type_id\").agg(count(lit(1)).alias(\"Total\"))\n",
    "hotel_continent_df = exp_dest_hotelprof.groupBy(\"hotel_continent\").agg(count(lit(1)).alias(\"Total\"))\n",
    "hotel_country_df   = exp_dest_hotelprof.groupBy(\"hotel_country\").agg(count(lit(1)).alias(\"Total\"))\n",
    "hotel_market_df    = exp_dest_hotelprof.groupBy(\"hotel_market\").agg(count(lit(1)).alias(\"Total\"))\n",
    "hotel_cluster_df   = exp_dest_hotelprof.groupBy(\"hotel_cluster\").agg(count(lit(1)).alias(\"Total\"))\n",
    "\n",
    "leastFreqsrchdesttyp  = srch_dest_type_df.orderBy(col(\"Total\").asc()).first()\n",
    "mostFreqsrchdesttyp   = srch_dest_type_df.orderBy(col(\"Total\").desc()).first()\n",
    "leastFreqhotelcont    = hotel_continent_df.orderBy(col(\"Total\").asc()).first()\n",
    "mostFreqhotelcont     = hotel_continent_df.orderBy(col(\"Total\").desc()).first()\n",
    "leastFreqhotelcoun    = hotel_country_df.orderBy(col(\"Total\").asc()).first()\n",
    "mostFreqhotelcoun     = hotel_country_df.orderBy(col(\"Total\").desc()).first()\n",
    "leastFreqhotelmar     = hotel_market_df.orderBy(col(\"Total\").asc()).first()\n",
    "mostFreqhotelmar      = hotel_market_df.orderBy(col(\"Total\").desc()).first()\n",
    "leastFreqhotelclus    = hotel_cluster_df.orderBy(col(\"Total\").asc()).first()\n",
    "mostFreqhotelclus     = hotel_cluster_df.orderBy(col(\"Total\").desc()).first()\n",
    "\n",
    "display(Markdown(\"\"\"\n",
    "| %s | %s | %s | %s | %s | %s |\n",
    "|----|----|----|----|----|----|\n",
    "| %s | %s | %s | %s | %s | %s |\n",
    "\"\"\" % (\"least_srch_dest_type\",\"most_srch_dest_type\",\"least_hotel_continent\", \"most_hotel_continent\", \"least_hotel_country\", \"most_hotel_country\", \\\n",
    "       \"%d (%d counts)\" % (leastFreqsrchdesttyp[\"srch_destination_type_id\"], leastFreqsrchdesttyp[\"Total\"]), \\\n",
    "       \"%d (%d counts)\" % (mostFreqsrchdesttyp[\"srch_destination_type_id\"], mostFreqsrchdesttyp[\"Total\"]), \\\n",
    "       \"%d (%d counts)\" % (leastFreqhotelcont[\"hotel_continent\"], leastFreqhotelcont[\"Total\"]), \\\n",
    "       \"%d (%d counts)\" % (mostFreqhotelcont[\"hotel_continent\"], mostFreqhotelcont[\"Total\"]), \\\n",
    "       \"%s (%d counts)\" % (leastFreqhotelcoun[\"hotel_country\"], leastFreqhotelcoun[\"Total\"]), \\\n",
    "       \"%s (%d counts)\" % (mostFreqhotelcoun[\"hotel_country\"], mostFreqhotelcoun[\"Total\"]))))\n",
    "display(Markdown(\"\"\"\n",
    "| %s | %s | %s | %s |\n",
    "|----|----|----|----|\n",
    "| %s | %s | %s | %s |\n",
    "\"\"\" % (\"least_hotel_market\", \"most_hotel_market\", \"least_hotel_cluster\", \"most_hotel_cluster\", \\\n",
    "       \"%s (%d counts)\" % (leastFreqhotelmar[\"hotel_market\"], leastFreqhotelmar[\"Total\"]), \\\n",
    "       \"%s (%d counts)\" % (mostFreqhotelmar[\"hotel_market\"], mostFreqhotelmar[\"Total\"]), \\\n",
    "       \"%s (%d counts)\" % (leastFreqhotelclus[\"hotel_cluster\"], leastFreqhotelclus[\"Total\"]), \\\n",
    "       \"%s (%d counts)\" % (mostFreqhotelclus[\"hotel_cluster\"], mostFreqhotelclus[\"Total\"]))))"
   ]
  },
  {
   "cell_type": "markdown",
   "metadata": {},
   "source": [
    "**Plot the orig_destination_distance distribution**"
   ]
  },
  {
   "cell_type": "code",
   "execution_count": 36,
   "metadata": {},
   "outputs": [
    {
     "data": {
      "text/plain": [
       "<AxesSubplot:ylabel='Frequency'>"
      ]
     },
     "execution_count": 36,
     "metadata": {},
     "output_type": "execute_result"
    },
    {
     "data": {
      "image/png": "[encoded data removed]",
      "text/plain": [
       "<Figure size 432x288 with 1 Axes>"
      ]
     },
     "metadata": {
      "needs_background": "light"
     },
     "output_type": "display_data"
    }
   ],
   "source": [
    "exp_dest_hotelprof.toPandas()\\\n",
    "                  .orig_destination_distance\\\n",
    "                  .plot.hist()"
   ]
  },
  {
   "cell_type": "markdown",
   "metadata": {},
   "source": [
    "# Categorizing the Origin to Destination distance\n",
    "Origin Destination distance is going to be categorized as follows :\n",
    "\n",
    "1. \"Near\"          - orig_destination_distance = [0,1000] kms\n",
    "2. \"Medium\"        - orig_destination_distance = (1000,6000] kms\n",
    "3. \"Far\"           - orig_destination_distance >  6000 kms\n",
    "4. \"Not Applicable\"- orig_destination_distance = -1 kms (For null cases)"
   ]
  },
  {
   "cell_type": "code",
   "execution_count": 37,
   "metadata": {},
   "outputs": [
    {
     "name": "stdout",
     "output_type": "stream",
     "text": [
      "+--------------+--------------+------------+\n",
      "| Dist_Category|orig_dest_dist|RoundedRatio|\n",
      "+--------------+--------------+------------+\n",
      "|           Far|        120499|        4.02|\n",
      "|        Medium|        766354|       25.54|\n",
      "|          Near|       1098661|       36.61|\n",
      "|Not Applicable|       1015179|       33.83|\n",
      "+--------------+--------------+------------+\n",
      "\n"
     ]
    }
   ],
   "source": [
    "# Categorization based on the distribution\n",
    "totrows = exp_dest_hotelprof.count()\n",
    "origin_dest_cat_df = exp_dest_hotelprof\\\n",
    "   .withColumn(\"Dist_Category\", when((col(\"orig_destination_distance\")>=0) & (col(\"orig_destination_distance\")<=1000),\"Near\")\\\n",
    "                               .when((col(\"orig_destination_distance\")>1000) & (col(\"orig_destination_distance\")<=6000),\"Medium\")\\\n",
    "                               .when((col(\"orig_destination_distance\")>6000) ,\"Far\")\\\n",
    "                               .otherwise(\"Not Applicable\"))\\\n",
    "    .cache() # optimization to make the processing faster\n",
    "\n",
    "#Counting the frequency in each category\n",
    "origin_dest_cat_df.select(\"Dist_Category\", \"orig_destination_distance\")\\\n",
    "                     .groupBy(\"Dist_Category\")\\\n",
    "                     .agg(count(\"Dist_Category\").alias(\"orig_dest_dist\"), \\\n",
    "                          (count(\"Dist_Category\")/totrows*100).alias(\"Ratio\"))\\\n",
    "                     .orderBy(\"Dist_Category\")\\\n",
    "                     .select(\"Dist_Category\",\"orig_dest_dist\",round(\"Ratio\",2).alias(\"RoundedRatio\")).show()"
   ]
  },
  {
   "cell_type": "markdown",
   "metadata": {},
   "source": [
    "# Business Question?\n",
    "\n",
    "**1. Which continent sees the visitors travelling the most distance?**\n",
    "\n",
    "**2. Which continent only receives nearby customers?**\n",
    "\n",
    "For answering this questions we need to group the data based on ***hotel_continent***, followed by a grouping based on ***Distance Category*** and hotel continent. Once these two are joined based on ***hotel_continent***, we get the necessary grouped information to answer the above questions."
   ]
  },
  {
   "cell_type": "code",
   "execution_count": 58,
   "metadata": {},
   "outputs": [
    {
     "data": {
      "text/markdown": [
       "Pivot table based on countries and Distance Category (Booking Ratio in \\%):"
      ],
      "text/plain": [
       "<IPython.core.display.Markdown object>"
      ]
     },
     "metadata": {},
     "output_type": "display_data"
    },
    {
     "name": "stdout",
     "output_type": "stream",
     "text": [
      "+---------------+-----+------+-----+\n",
      "|hotel_continent|  Far|Medium| Near|\n",
      "+---------------+-----+------+-----+\n",
      "|              3|67.27| 31.82| 0.92|\n",
      "|              5| 60.2| 37.69| 2.11|\n",
      "|              0|41.43| 22.28|36.29|\n",
      "|              1| 20.0|  80.0|  0.0|\n",
      "|              6| 9.74| 64.75|25.51|\n",
      "|              4| 3.17| 78.32|18.51|\n",
      "|              2| 0.77|  31.0|68.23|\n",
      "+---------------+-----+------+-----+\n",
      "\n"
     ]
    },
    {
     "data": {
      "text/markdown": [
       "Top destinations continents based on Booking Ratio grouped by Distance Category (in \\%):"
      ],
      "text/plain": [
       "<IPython.core.display.Markdown object>"
      ]
     },
     "metadata": {},
     "output_type": "display_data"
    },
    {
     "name": "stdout",
     "output_type": "stream",
     "text": [
      "+---------------+-------------+------+-------------+------------+\n",
      "|hotel_continent|Dist_Category| Count|TotalBookings|BookingRatio|\n",
      "+---------------+-------------+------+-------------+------------+\n",
      "|              1|       Medium|     4|            5|        80.0|\n",
      "|              4|       Medium|106814|       136384|       78.32|\n",
      "|              2|         Near|996068|      1459937|       68.23|\n",
      "|              3|          Far| 62901|        93511|       67.27|\n",
      "|              6|       Medium|167769|       259106|       64.75|\n",
      "|              5|          Far|  5080|         8439|        60.2|\n",
      "|              0|          Far| 11655|        28132|       41.43|\n",
      "|              5|       Medium|  3181|         8439|       37.69|\n",
      "|              0|         Near| 10209|        28132|       36.29|\n",
      "|              3|       Medium| 29752|        93511|       31.82|\n",
      "|              2|       Medium|452566|      1459937|        31.0|\n",
      "|              6|         Near| 66097|       259106|       25.51|\n",
      "|              0|       Medium|  6268|        28132|       22.28|\n",
      "|              1|          Far|     1|            5|        20.0|\n",
      "|              4|         Near| 25251|       136384|       18.51|\n",
      "|              6|          Far| 25240|       259106|        9.74|\n",
      "|              4|          Far|  4319|       136384|        3.17|\n",
      "|              5|         Near|   178|         8439|        2.11|\n",
      "|              3|         Near|   858|        93511|        0.92|\n",
      "|              2|          Far| 11303|      1459937|        0.77|\n",
      "+---------------+-------------+------+-------------+------------+\n",
      "\n"
     ]
    }
   ],
   "source": [
    "totalbookingscontinents = \\\n",
    "   exp_dest_hotelprof.where(col(\"orig_destination_distance\")!=-1)\\\n",
    "            .groupBy(\"hotel_continent\")\\\n",
    "            .agg(count(lit(1)).alias(\"TotalBookings\")) # Counting the number of customers based on hotel_continent\n",
    "\n",
    "orig_dest_continents = \\\n",
    "  origin_dest_cat_df.where(col(\"Dist_Category\")!=\"Not Applicable\") \\\n",
    "                       .select(\"hotel_continent\", \"Dist_Category\")\\\n",
    "                       .groupBy(\"hotel_continent\", \"Dist_Category\")\\\n",
    "                       .agg(count(lit(1)).alias(\"Count\"))\\\n",
    "                       .orderBy(desc(\"Count\")) # grouping by hotel continent and Distance Category\n",
    "\n",
    "combinedcontinentsDF = \\\n",
    "  orig_dest_continents\\\n",
    "     .join(totalbookingscontinents, \"hotel_continent\") \\\n",
    "     .withColumn(\"BookingRatio\", round(col(\"Count\")/col(\"TotalBookings\")*100,2))\\\n",
    "     .orderBy(col(\"BookingRatio\").desc())\\\n",
    "     .cache() # joining keeping the hotel_continent column as reference\\\n",
    "\n",
    "display(Markdown(\"Pivot table based on countries and Distance Category (Booking Ratio in \\%):\"))\n",
    "combinedcontinentsDF\\\n",
    "   .groupBy(\"hotel_continent\")\\\n",
    "   .pivot(\"Dist_Category\")\\\n",
    "   .max(\"BookingRatio\")\\\n",
    "   .orderBy(col(\"Far\").desc(), col(\"Medium\").desc(), col(\"Near\").desc())\\\n",
    "   .fillna(0, subset=[\"Far\",\"Medium\",\"Near\"]).show()\n",
    "\n",
    "display(Markdown(\"Top destinations continents based on Booking Ratio grouped by Distance Category (in \\%):\"))\n",
    "combinedcontinentsDF.show()\n",
    "\n"
   ]
  },
  {
   "cell_type": "markdown",
   "metadata": {},
   "source": [
    "# Business Question?\n",
    "\n",
    "**1. Which country sees the visitors travelling the most distance?**\n",
    "\n",
    "**2. Which country only receives nearby customers?**\n",
    "\n",
    "For answering this questions we need to group the data based on ***hotel_country***, followed by a grouping based on ***Distance Category*** and hotel country. Once these two are joined based on ***hotel_country***, we get the necessary grouped information to answer the above questions."
   ]
  },
  {
   "cell_type": "code",
   "execution_count": 59,
   "metadata": {},
   "outputs": [
    {
     "data": {
      "text/markdown": [
       "Pivot table based on countries and Distance Category (Booking Ratio in \\%):"
      ],
      "text/plain": [
       "<IPython.core.display.Markdown object>"
      ]
     },
     "metadata": {},
     "output_type": "display_data"
    },
    {
     "name": "stdout",
     "output_type": "stream",
     "text": [
      "+-------------+-----+------+----+\n",
      "|hotel_country|  Far|Medium|Near|\n",
      "+-------------+-----+------+----+\n",
      "|           39|100.0|   0.0| 0.0|\n",
      "|          149|100.0|   0.0| 0.0|\n",
      "|           91|100.0|   0.0| 0.0|\n",
      "|          195|100.0|   0.0| 0.0|\n",
      "|            6|100.0|   0.0| 0.0|\n",
      "|          187|100.0|   0.0| 0.0|\n",
      "|          114|96.55|  3.45| 0.0|\n",
      "|          139|90.12|  9.88| 0.0|\n",
      "|           82|89.39| 10.61| 0.0|\n",
      "|          108| 89.2|  10.8| 0.0|\n",
      "|          202| 88.2|  11.8| 0.0|\n",
      "|            2|86.55| 13.45| 0.0|\n",
      "|          130|86.14| 13.86| 0.0|\n",
      "|           89|86.13| 13.87| 0.0|\n",
      "|          122|83.81| 16.19| 0.0|\n",
      "|          110|83.44| 16.56| 0.0|\n",
      "|          155|83.33| 16.67| 0.0|\n",
      "|          129|82.94| 17.06| 0.0|\n",
      "|          181|81.82| 18.18| 0.0|\n",
      "|          203| 81.7| 17.55|0.75|\n",
      "+-------------+-----+------+----+\n",
      "only showing top 20 rows\n",
      "\n"
     ]
    },
    {
     "data": {
      "text/markdown": [
       "Top destinations country based on Booking Ratio grouped by Distance Category (in \\%):"
      ],
      "text/plain": [
       "<IPython.core.display.Markdown object>"
      ]
     },
     "metadata": {},
     "output_type": "display_data"
    },
    {
     "name": "stdout",
     "output_type": "stream",
     "text": [
      "+-------------+-------------+------+-------------+------------+\n",
      "|hotel_country|Dist_Category| Count|TotalBookings|BookingRatio|\n",
      "+-------------+-------------+------+-------------+------------+\n",
      "|           50|         Near|871227|      1294956|       67.28|\n",
      "|           50|       Medium|413403|      1294956|       31.92|\n",
      "|           50|          Far| 10326|      1294956|         0.8|\n",
      "|          198|         Near|124841|       164981|       75.67|\n",
      "|          198|       Medium| 39163|       164981|       23.74|\n",
      "|          198|          Far|   977|       164981|        0.59|\n",
      "|            8|       Medium| 42488|        61932|        68.6|\n",
      "|            8|         Near| 19037|        61932|       30.74|\n",
      "|            8|          Far|   407|        61932|        0.66|\n",
      "|          105|       Medium| 26787|        52914|       50.62|\n",
      "+-------------+-------------+------+-------------+------------+\n",
      "\n"
     ]
    }
   ],
   "source": [
    "totalbookingscountry = \\\n",
    "   exp_dest_hotelprof.where(col(\"orig_destination_distance\")!=-1)\\\n",
    "            .groupBy(\"hotel_country\")\\\n",
    "            .agg(count(lit(1)).alias(\"TotalBookings\"))\n",
    "orig_dest_countries = \\\n",
    "  origin_dest_cat_df.where(col(\"Dist_Category\")!=\"Not Applicable\") \\\n",
    "                       .select(\"hotel_country\", \"Dist_Category\")\\\n",
    "                       .groupBy(\"hotel_country\", \"Dist_Category\")\\\n",
    "                       .agg(count(lit(1)).alias(\"Count\")).orderBy(desc(\"Count\"))\n",
    "\n",
    "combined_country_df = \\\n",
    "  orig_dest_countries\\\n",
    "     .join(totalbookingscountry, \"hotel_country\")\\\n",
    "     .withColumn(\"BookingRatio\", round(col(\"Count\")/col(\"TotalBookings\")*100,2))\\\n",
    "     .orderBy(col(\"TotalBookings\").desc(),col(\"BookingRatio\").desc())\\\n",
    "     .cache() # optimization to make the processing faster\n",
    "\n",
    "display(Markdown(\"Pivot table based on countries and Distance Category (Booking Ratio in \\%):\"))\n",
    "combined_country_df\\\n",
    "   .groupBy(\"hotel_country\")\\\n",
    "   .pivot(\"Dist_Category\")\\\n",
    "   .min(\"BookingRatio\")\\\n",
    "   .orderBy(col(\"Far\").desc(), col(\"Medium\").desc(), col(\"Near\").desc())\\\n",
    "   .fillna(0, subset=[\"Far\",\"Medium\",\"Near\"]).show()\n",
    "\n",
    "display(Markdown(\"Top destinations country based on Booking Ratio grouped by Distance Category (in \\%):\"))\n",
    "combined_country_df.limit(10).show()"
   ]
  },
  {
   "cell_type": "markdown",
   "metadata": {},
   "source": [
    "# Business Question?\n",
    "\n",
    "**1. Which category(distance) of customers prefer which hotel clusters?**\n",
    "\n",
    "For answering this questions we need to group the data based on ***hotel_cluster***, followed by a grouping based on ***Distance Category*** and hotel cluster. Once these two are joined based on ***hotel_cluster***, we get the necessary grouped information to answer the above questions."
   ]
  },
  {
   "cell_type": "code",
   "execution_count": 56,
   "metadata": {},
   "outputs": [
    {
     "data": {
      "text/markdown": [
       "Pivot table based on hotel clusters and Distance Category (Booking Ratio in \\%):"
      ],
      "text/plain": [
       "<IPython.core.display.Markdown object>"
      ]
     },
     "metadata": {},
     "output_type": "display_data"
    },
    {
     "name": "stdout",
     "output_type": "stream",
     "text": [
      "+-------------+-----+------+-----+\n",
      "|hotel_cluster|  Far|Medium| Near|\n",
      "+-------------+-----+------+-----+\n",
      "|           12|38.81| 43.73|17.47|\n",
      "|           46|37.44| 46.69|15.87|\n",
      "|           81|34.41| 40.99| 24.6|\n",
      "|           67|30.89| 52.87|16.25|\n",
      "|           57|30.22| 39.12|30.66|\n",
      "|           38|28.44| 47.72|23.84|\n",
      "|           36|27.88| 50.97|21.15|\n",
      "|           63|26.64|  44.6|28.76|\n",
      "|           64|26.33| 57.26|16.41|\n",
      "|           58| 26.3| 56.12|17.58|\n",
      "+-------------+-----+------+-----+\n",
      "\n"
     ]
    },
    {
     "data": {
      "text/markdown": [
       "Top destinations hotel clusters based on Booking Ratio grouped by Distance Category (in \\%):"
      ],
      "text/plain": [
       "<IPython.core.display.Markdown object>"
      ]
     },
     "metadata": {},
     "output_type": "display_data"
    },
    {
     "name": "stdout",
     "output_type": "stream",
     "text": [
      "+-------------+-------------+-----+-------------+------------+\n",
      "|hotel_cluster|Dist_Category|Count|TotalBookings|BookingRatio|\n",
      "+-------------+-------------+-----+-------------+------------+\n",
      "|           91|         Near|73104|        98550|       74.18|\n",
      "|           91|       Medium|24908|        98550|       25.27|\n",
      "|           91|          Far|  538|        98550|        0.55|\n",
      "|           48|         Near|50032|        67668|       73.94|\n",
      "|           48|       Medium|17093|        67668|       25.26|\n",
      "|           48|          Far|  543|        67668|         0.8|\n",
      "|           42|         Near|42173|        57570|       73.26|\n",
      "|           42|       Medium|14854|        57570|        25.8|\n",
      "|           42|          Far|  543|        57570|        0.94|\n",
      "|           28|         Near|32318|        48370|       66.81|\n",
      "+-------------+-------------+-----+-------------+------------+\n",
      "\n"
     ]
    }
   ],
   "source": [
    "totalbookingscluster = \\\n",
    "   exp_dest_hotelprof.where(col(\"orig_destination_distance\")!=-1)\\\n",
    "            .groupBy(\"hotel_cluster\")\\\n",
    "            .agg(count(lit(1)).alias(\"TotalBookings\"))\n",
    "orig_dest_cluster = \\\n",
    "  origin_dest_cat_df.where(col(\"Dist_Category\")!=\"Not Applicable\") \\\n",
    "                       .select(\"hotel_cluster\", \"Dist_Category\")\\\n",
    "                       .groupBy(\"hotel_cluster\", \"Dist_Category\")\\\n",
    "                       .agg(count(lit(1)).alias(\"Count\")).orderBy(desc(\"Count\"))\n",
    "\n",
    "combined_cluster_df = \\\n",
    "  orig_dest_cluster\\\n",
    "     .join(totalbookingscluster, \"hotel_cluster\")\\\n",
    "     .withColumn(\"BookingRatio\", round(col(\"Count\")/col(\"TotalBookings\")*100,2))\\\n",
    "     .orderBy(col(\"TotalBookings\").desc(),col(\"BookingRatio\").desc())\\\n",
    "     .cache() # optimization to make the processing faster\n",
    "\n",
    "display(Markdown(\"Pivot table based on hotel clusters and Distance Category (Booking Ratio in \\%):\"))\n",
    "combined_cluster_df\\\n",
    "   .groupBy(\"hotel_cluster\")\\\n",
    "   .pivot(\"Dist_Category\")\\\n",
    "   .min(\"BookingRatio\")\\\n",
    "   .orderBy(col(\"Far\").desc(), col(\"Medium\").desc(), col(\"Near\").desc())\\\n",
    "   .fillna(0, subset=[\"Far\",\"Medium\",\"Near\"]).limit(10).show()\n",
    "\n",
    "display(Markdown(\"Top destinations hotel clusters based on Booking Ratio grouped by Distance Category (in \\%):\"))\n",
    "combined_cluster_df.limit(10).show()"
   ]
  },
  {
   "cell_type": "markdown",
   "metadata": {},
   "source": [
    "# Business Question?\n",
    "\n",
    "**1. Which hotel clusters are preferred most by the customers?**\n"
   ]
  },
  {
   "cell_type": "code",
   "execution_count": 47,
   "metadata": {},
   "outputs": [
    {
     "name": "stdout",
     "output_type": "stream",
     "text": [
      "+-------------+-------------+\n",
      "|hotel_cluster|TotalBookings|\n",
      "+-------------+-------------+\n",
      "|           91|        98550|\n",
      "|           48|        67668|\n",
      "|           42|        57570|\n",
      "|           28|        48370|\n",
      "|           18|        43423|\n",
      "|           50|        42327|\n",
      "|           95|        41929|\n",
      "|           16|        41704|\n",
      "|           59|        40991|\n",
      "|           41|        36397|\n",
      "|           21|        35290|\n",
      "|           47|        34521|\n",
      "|           72|        33934|\n",
      "|           98|        33697|\n",
      "|           32|        33422|\n",
      "|           13|        33413|\n",
      "|            6|        30707|\n",
      "|            1|        30438|\n",
      "|           68|        30078|\n",
      "|           39|        29826|\n",
      "+-------------+-------------+\n",
      "only showing top 20 rows\n",
      "\n"
     ]
    }
   ],
   "source": [
    "totalbookingscluster = \\\n",
    "   exp_dest_hotelprof.where(col(\"orig_destination_distance\")!=-1)\\\n",
    "            .groupBy(\"hotel_cluster\")\\\n",
    "            .agg(count(lit(1)).alias(\"TotalBookings\"))\\\n",
    "            .orderBy(col(\"TotalBookings\").desc()).show()"
   ]
  },
  {
   "cell_type": "markdown",
   "metadata": {},
   "source": [
    "# Family Profiling\n",
    "\n",
    "In the following analysis, we will query about the family structure and their preferences for the following attributes:\n",
    "\n",
    "1. srch_destination_type_id\n",
    "2. hotel_continent\n",
    "3. hotel_country\n",
    "4. hotel_market\n",
    "5. hotel_cluster\n",
    "6. user_id\n",
    "7. is_mobile\n",
    "8. channel\n",
    "9. srch_adults_cnt\n",
    "10. srch_children_cnt\n",
    "11. is_booking\n",
    "12. orig_destination_distance\n",
    "\n",
    "This analysis provides with a overall idea in the family category."
   ]
  },
  {
   "cell_type": "code",
   "execution_count": 41,
   "metadata": {},
   "outputs": [],
   "source": [
    "family_profiling = spark.read.parquet(\"../Spark_Assignment/Expedia/parquet/\")\n",
    "family_profiling = family_profiling.select(col('orig_destination_distance').cast(\"int\"),\n",
    "                                           col('user_id').cast(\"int\"),\n",
    "                                           col('is_mobile').cast(\"int\"),\n",
    "                                           col('channel').cast(\"int\"),\n",
    "                                           col('srch_adults_cnt').cast(\"int\"),\n",
    "                                           col('srch_children_cnt').cast(\"int\"),\n",
    "                                           col('srch_destination_type_id').cast(\"int\"),\n",
    "                                           col('is_booking').cast(\"int\"),\n",
    "                                           col('hotel_continent').cast(\"int\"),\n",
    "                                           col('hotel_country').cast(\"int\"),\n",
    "                                           col('hotel_market').cast(\"int\"),\n",
    "                                           col('hotel_cluster').cast(\"int\"))"
   ]
  },
  {
   "cell_type": "markdown",
   "metadata": {},
   "source": [
    "**Replace NA from orig_dest_distanc to -1**"
   ]
  },
  {
   "cell_type": "code",
   "execution_count": 42,
   "metadata": {},
   "outputs": [],
   "source": [
    "family_profiling = family_profiling.fillna(-1, subset=[\"orig_destination_distance\"])"
   ]
  },
  {
   "cell_type": "markdown",
   "metadata": {},
   "source": [
    "# Categorizing the Origin to Destination distance\n",
    "Origin Destination distance is going to be categorized as follows :\n",
    "\n",
    "1. \"Near\"          - orig_destination_distance = [0,1000] kms\n",
    "2. \"Medium\"        - orig_destination_distance = (1000,6000] kms\n",
    "3. \"Far\"           - orig_destination_distance >  6000 kms\n",
    "4. \"Not Applicable\"- orig_destination_distance = -1 kms (For null cases)"
   ]
  },
  {
   "cell_type": "code",
   "execution_count": 43,
   "metadata": {},
   "outputs": [],
   "source": [
    "totrows = family_profiling.count()\n",
    "family_profiling = family_profiling\\\n",
    "   .withColumn(\"Dist_Category\", when((col(\"orig_destination_distance\")>=0) & (col(\"orig_destination_distance\")<=1000),\"Near\")\\\n",
    "                               .when((col(\"orig_destination_distance\")>1000) & (col(\"orig_destination_distance\")<=6000),\"Medium\")\\\n",
    "                               .when((col(\"orig_destination_distance\")>6000) ,\"Far\")\\\n",
    "                               .otherwise(\"Not Applicable\"))\\\n",
    "    .cache() # optimization to make the processing faster"
   ]
  },
  {
   "cell_type": "markdown",
   "metadata": {},
   "source": [
    "# Business Question?\n",
    "**1. How many channels are being used?**\n",
    "\n",
    "**2. Which Channel is most used and in what device?**\n",
    "\n",
    "To answer this question, we need the count based on ***channel*** first, followed by grouping by ***channel*** and ***is_mobile***, making a count for each category. Finally we go forward with a join keeping the ***channel*** as reference and arranging according to business questions."
   ]
  },
  {
   "cell_type": "code",
   "execution_count": 54,
   "metadata": {},
   "outputs": [
    {
     "data": {
      "text/markdown": [
       "Pivot table based on Channel and Device Category (Booking Ratio in \\%):"
      ],
      "text/plain": [
       "<IPython.core.display.Markdown object>"
      ]
     },
     "metadata": {},
     "output_type": "display_data"
    },
    {
     "name": "stdout",
     "output_type": "stream",
     "text": [
      "+-------+-----+----+\n",
      "|channel|    0|   1|\n",
      "+-------+-----+----+\n",
      "|      4|12.94|0.97|\n",
      "|      5| 9.03|0.25|\n",
      "|      9|  7.9|0.87|\n",
      "|      8| 7.68|0.76|\n",
      "|      0| 6.59|0.97|\n",
      "|     10| 6.39|0.54|\n",
      "|      1|  6.3|0.88|\n",
      "|      2| 5.53|0.81|\n",
      "|      3| 5.42|0.44|\n",
      "|      7| 4.22|0.26|\n",
      "|      6| 4.01|0.38|\n",
      "+-------+-----+----+\n",
      "\n"
     ]
    }
   ],
   "source": [
    "# Number of distinct channels\n",
    "totalcount=family_profiling.where(col(\"orig_destination_distance\")!=-1)\\\n",
    "            .groupBy(\"channel\")\\\n",
    "            .agg(count(lit(1)).alias(\"FreqCount\"))\\\n",
    "            .orderBy(col(\"FreqCount\").desc()).cache()\n",
    "\n",
    "channel_profile = \\\n",
    "  family_profiling.where((col(\"Dist_Category\")!=\"Not Applicable\") & (col(\"is_booking\")==1))\\\n",
    "                       .select(\"channel\", \"is_mobile\")\\\n",
    "                       .groupBy(\"channel\", \"is_mobile\")\\\n",
    "                       .agg(count(lit(1)).alias(\"Count\")).orderBy(desc(\"Count\")).cache() # Grouping by Channel and is_mobile\n",
    "\n",
    "\n",
    "combined_channel_df = \\\n",
    "  channel_profile\\\n",
    "     .join(totalcount, \"channel\")\\\n",
    "     .withColumn(\"BookingRatio\", round(col(\"Count\")/col(\"FreqCount\")*100,2))\\\n",
    "     .orderBy(col(\"BookingRatio\").desc())\\\n",
    "     .cache() # joining based on channel as reference column\n",
    "\n",
    "display(Markdown(\"Pivot table based on Channel and Device Category (Booking Ratio in \\%):\"))\n",
    "combined_channel_df\\\n",
    "   .groupBy(\"channel\")\\\n",
    "   .pivot(\"is_mobile\")\\\n",
    "   .min(\"BookingRatio\")\\\n",
    "   .orderBy(col(\"0\").desc(), col(\"1\").desc())\\\n",
    "   .show()"
   ]
  },
  {
   "cell_type": "markdown",
   "metadata": {},
   "source": [
    "**Counting the total number of friends and family to be included in the search**"
   ]
  },
  {
   "cell_type": "code",
   "execution_count": 45,
   "metadata": {},
   "outputs": [],
   "source": [
    "family_profiling = family_profiling\\\n",
    "                    .withColumn(\"total_members\", col(\"srch_adults_cnt\")+col(\"srch_children_cnt\")).cache()"
   ]
  },
  {
   "cell_type": "markdown",
   "metadata": {},
   "source": [
    "# Categorizing the total number of family members\n",
    "***total_members*** is going to be categorized as follows :\n",
    "\n",
    "1. \"Alone\"         - total_members = 1 member\n",
    "2. \"Couple\"        - total_members = 2 members\n",
    "3. \"Fam&Frnds\"     - total_members > 2 members\n",
    "4. \"Not Applicable\"- missing or negative values"
   ]
  },
  {
   "cell_type": "code",
   "execution_count": 49,
   "metadata": {},
   "outputs": [
    {
     "name": "stdout",
     "output_type": "stream",
     "text": [
      "+--------------+---------+\n",
      "|  Fam_Category|FreqCount|\n",
      "+--------------+---------+\n",
      "|        Couple|   953440|\n",
      "|         Alone|   554823|\n",
      "|     Fam&Frnds|   474040|\n",
      "|Not Applicable|     3211|\n",
      "+--------------+---------+\n",
      "\n"
     ]
    }
   ],
   "source": [
    "family_profiling = family_profiling\\\n",
    "   .withColumn(\"Fam_Category\", when((col(\"total_members\")==1),\"Alone\")\\\n",
    "                               .when((col(\"total_members\")==2),\"Couple\")\\\n",
    "                               .when((col(\"total_members\")>2) ,\"Fam&Frnds\")\\\n",
    "                               .otherwise(\"Not Applicable\"))\\\n",
    "\n",
    "totalfamcount=family_profiling.where((col(\"orig_destination_distance\")!=-1) & (col(\"is_booking\")==1))\\\n",
    "            .groupBy(\"Fam_Category\")\\\n",
    "            .agg(count(lit(1)).alias(\"FreqCount\"))\\\n",
    "            .orderBy(col(\"FreqCount\").desc()).cache() # Categorizing the dataset counting for each group\n",
    "\n",
    "totalfamcount.show()"
   ]
  },
  {
   "cell_type": "markdown",
   "metadata": {},
   "source": [
    "# Business Question\n",
    "\n",
    "**Which Family Category preferred which distance category type vacation?**\n",
    "\n",
    "To answer this question, we need the count based on ***Fam_Category*** first(alraedy calculated), followed by grouping by ***Fam_Category*** and ***Dist_Category***, making a count for each category. Finally we go forward with a join keeping the ***Fam_Category*** as reference and arranging according to business questions."
   ]
  },
  {
   "cell_type": "code",
   "execution_count": 53,
   "metadata": {},
   "outputs": [
    {
     "data": {
      "text/markdown": [
       "Pivot table based on family and destination distance Category (Booking Ratio in \\%):"
      ],
      "text/plain": [
       "<IPython.core.display.Markdown object>"
      ]
     },
     "metadata": {},
     "output_type": "display_data"
    },
    {
     "name": "stdout",
     "output_type": "stream",
     "text": [
      "+------------+----+------+-----+\n",
      "|Fam_Category| Far|Medium| Near|\n",
      "+------------+----+------+-----+\n",
      "|   Fam&Frnds|5.67| 37.73| 56.6|\n",
      "|       Alone|6.06| 39.09|54.85|\n",
      "|      Couple|6.28| 38.66|55.05|\n",
      "+------------+----+------+-----+\n",
      "\n",
      "+------------+-------------+------+---------+------------+\n",
      "|Fam_Category|Dist_Category| Count|FreqCount|BookingRatio|\n",
      "+------------+-------------+------+---------+------------+\n",
      "|   Fam&Frnds|         Near|268329|   474040|        56.6|\n",
      "|      Couple|         Near|524901|   953440|       55.05|\n",
      "|       Alone|         Near|304322|   554823|       54.85|\n",
      "|       Alone|       Medium|216862|   554823|       39.09|\n",
      "|      Couple|       Medium|368628|   953440|       38.66|\n",
      "|   Fam&Frnds|       Medium|178855|   474040|       37.73|\n",
      "|      Couple|          Far| 59911|   953440|        6.28|\n",
      "|       Alone|          Far| 33639|   554823|        6.06|\n",
      "|   Fam&Frnds|          Far| 26856|   474040|        5.67|\n",
      "+------------+-------------+------+---------+------------+\n",
      "\n"
     ]
    }
   ],
   "source": [
    "Fam_Dist_category = \\\n",
    "  family_profiling.where((col(\"Dist_Category\")!=\"Not Applicable\") \\\n",
    "                         & (col(\"is_booking\")==1) & (col(\"Fam_Category\")!=\"Not Applicable\"))\\\n",
    "                       .select(\"Dist_Category\", \"Fam_Category\")\\\n",
    "                       .groupBy(\"Dist_Category\", \"Fam_Category\")\\\n",
    "                       .agg(count(lit(1)).alias(\"Count\"))\\\n",
    "                       .orderBy(desc(\"Count\")).cache() # grouping based on Fam_Category and Dist_Category\n",
    "\n",
    "\n",
    "combined_Fam_Dist_category = \\\n",
    "  Fam_Dist_category\\\n",
    "     .join(totalfamcount, \"Fam_Category\")\\\n",
    "     .withColumn(\"BookingRatio\", round(col(\"Count\")/col(\"FreqCount\")*100,2))\\\n",
    "     .orderBy(col(\"BookingRatio\").desc())\\\n",
    "     .cache() # joining keeping Fam_Category as reference\n",
    "\n",
    "display(Markdown(\"Pivot table based on family and destination distance Category (Booking Ratio in \\%):\"))\n",
    "combined_Fam_Dist_category\\\n",
    "   .groupBy(\"Fam_Category\")\\\n",
    "   .pivot(\"Dist_Category\")\\\n",
    "   .min(\"BookingRatio\")\\\n",
    "   .show()\n",
    "\n",
    "combined_Fam_Dist_category.show()"
   ]
  },
  {
   "cell_type": "markdown",
   "metadata": {},
   "source": [
    "# Business Question\n",
    "\n",
    "**Which Family Category preferred which Destination type during vacation?**\n",
    "\n",
    "To answer this question, we need the count based on ***Fam_Category*** first(alraedy calculated), followed by grouping by ***Fam_Category*** and ***srch_destination_type_id***, making a count for each category. Finally we go forward with a join keeping the ***Fam_Category*** as reference and arranging according to business questions."
   ]
  },
  {
   "cell_type": "code",
   "execution_count": 52,
   "metadata": {},
   "outputs": [
    {
     "data": {
      "text/markdown": [
       "Pivot table based on family and search destination type Category (Booking Ratio in \\%):"
      ],
      "text/plain": [
       "<IPython.core.display.Markdown object>"
      ]
     },
     "metadata": {},
     "output_type": "display_data"
    },
    {
     "name": "stdout",
     "output_type": "stream",
     "text": [
      "+------------+-----+----+----+-----+-----+----+----+---+\n",
      "|Fam_Category|    1|   3|   4|    5|    6|   7|   8|  9|\n",
      "+------------+-----+----+----+-----+-----+----+----+---+\n",
      "|   Fam&Frnds|55.12|8.39|5.22| 5.87|25.13|0.01|0.26|0.0|\n",
      "|       Alone|50.93|9.32|2.71|10.34|26.13|0.01|0.54|0.0|\n",
      "|      Couple|54.05|8.84|3.91| 6.44|26.46|0.01| 0.3|0.0|\n",
      "+------------+-----+----+----+-----+-----+----+----+---+\n",
      "\n",
      "+------------+------------------------+------+---------+------------+\n",
      "|Fam_Category|srch_destination_type_id| Count|FreqCount|BookingRatio|\n",
      "+------------+------------------------+------+---------+------------+\n",
      "|   Fam&Frnds|                       1|261301|   474040|       55.12|\n",
      "|      Couple|                       1|515288|   953440|       54.05|\n",
      "|       Alone|                       1|282598|   554823|       50.93|\n",
      "|      Couple|                       6|252254|   953440|       26.46|\n",
      "|       Alone|                       6|144996|   554823|       26.13|\n",
      "|   Fam&Frnds|                       6|119137|   474040|       25.13|\n",
      "|       Alone|                       5| 57356|   554823|       10.34|\n",
      "|       Alone|                       3| 51736|   554823|        9.32|\n",
      "|      Couple|                       3| 84245|   953440|        8.84|\n",
      "|   Fam&Frnds|                       3| 39791|   474040|        8.39|\n",
      "|      Couple|                       5| 61372|   953440|        6.44|\n",
      "|   Fam&Frnds|                       5| 27804|   474040|        5.87|\n",
      "|   Fam&Frnds|                       4| 24749|   474040|        5.22|\n",
      "|      Couple|                       4| 37301|   953440|        3.91|\n",
      "|       Alone|                       4| 15061|   554823|        2.71|\n",
      "|       Alone|                       8|  2995|   554823|        0.54|\n",
      "|      Couple|                       8|  2885|   953440|         0.3|\n",
      "|   Fam&Frnds|                       8|  1215|   474040|        0.26|\n",
      "|      Couple|                       7|    61|   953440|        0.01|\n",
      "|       Alone|                       7|    55|   554823|        0.01|\n",
      "+------------+------------------------+------+---------+------------+\n",
      "only showing top 20 rows\n",
      "\n"
     ]
    }
   ],
   "source": [
    "Fam_Dest_category = \\\n",
    "  family_profiling.where((col(\"Dist_Category\")!=\"Not Applicable\") \n",
    "                         & (col(\"is_booking\")==1) & (col(\"Fam_Category\")!=\"Not Applicable\"))\\\n",
    "                       .select(\"srch_destination_type_id\", \"Fam_Category\")\\\n",
    "                       .groupBy(\"srch_destination_type_id\", \"Fam_Category\")\\\n",
    "                       .agg(count(lit(1)).alias(\"Count\")).orderBy(desc(\"Count\")).cache()\n",
    "\n",
    "\n",
    "combined_Fam_Dest_category = \\\n",
    "  Fam_Dest_category\\\n",
    "     .join(totalfamcount, \"Fam_Category\")\\\n",
    "     .withColumn(\"BookingRatio\", round(col(\"Count\")/col(\"FreqCount\")*100,2))\\\n",
    "     .orderBy(col(\"BookingRatio\").desc())\\\n",
    "     .cache()\n",
    "\n",
    "display(Markdown(\"Pivot table based on family and search destination type Category (Booking Ratio in \\%):\"))\n",
    "combined_Fam_Dest_category\\\n",
    "   .groupBy(\"Fam_Category\")\\\n",
    "   .pivot(\"srch_destination_type_id\")\\\n",
    "   .min(\"BookingRatio\")\\\n",
    "   .show()\n",
    "\n",
    "combined_Fam_Dest_category.show()"
   ]
  },
  {
   "cell_type": "markdown",
   "metadata": {},
   "source": [
    "# Graph Analysis\n",
    "\n",
    "We need to create the dataframes for vetices and edges. \n",
    "\n",
    "***Vertices*** are taken as the origin and destination country.\n",
    "In ***Edges***, user location country is taken as ***source*** and destination country as ***destination***"
   ]
  },
  {
   "cell_type": "code",
   "execution_count": 29,
   "metadata": {},
   "outputs": [],
   "source": [
    "\n",
    "exp_copy=exp # making a copy so as not to disturb the original dataset\n",
    "\n",
    "vertices1 = exp_copy.select(col(\"user_location_country\").alias(\"id\")).distinct() # Extracting origin countries\n",
    "vertices2 = exp_copy.select(col(\"hotel_country\").alias(\"id\")).distinct() # extracting destination countries\n",
    "vertices = vertices1.union(vertices2) # making a Union and taking distinct values\n",
    "\n",
    "edges = exp_copy.withColumnRenamed(\"user_location_country\", \"src\")\\\n",
    "                               .withColumnRenamed(\"hotel_country\", \"dst\")\\\n",
    "                               .select(\"src\", \"dst\") # preparing the edges dataframe"
   ]
  },
  {
   "cell_type": "markdown",
   "metadata": {},
   "source": [
    "**Preapring the Graphframe** "
   ]
  },
  {
   "cell_type": "code",
   "execution_count": 30,
   "metadata": {},
   "outputs": [
    {
     "data": {
      "text/plain": [
       "GraphFrame(v:[id: int], e:[src: int, dst: int])"
      ]
     },
     "execution_count": 30,
     "metadata": {},
     "output_type": "execute_result"
    }
   ],
   "source": [
    "graph = GraphFrame(vertices, edges)\n",
    "\n",
    "graph.cache() # keeping it in cache for better optimization, due to iterative calculations"
   ]
  },
  {
   "cell_type": "markdown",
   "metadata": {},
   "source": [
    "# Business Question?\n",
    "\n",
    "**Which is the most common holidaying destination from the same country visitors?**\n",
    "\n",
    "To solve this we need to count the edges from each of the vertices to their destination vertices."
   ]
  },
  {
   "cell_type": "code",
   "execution_count": 31,
   "metadata": {},
   "outputs": [
    {
     "name": "stdout",
     "output_type": "stream",
     "text": [
      "+---+---+--------+\n",
      "|src|dst|count   |\n",
      "+---+---+--------+\n",
      "|66 |50 |13566967|\n",
      "|205|50 |1721373 |\n",
      "|66 |8  |1440748 |\n",
      "|205|198|1160095 |\n",
      "|66 |198|454392  |\n",
      "+---+---+--------+\n",
      "only showing top 5 rows\n",
      "\n",
      "+---+---+-----+\n",
      "|src|dst|count|\n",
      "+---+---+-----+\n",
      "|229|31 |1    |\n",
      "|48 |160|1    |\n",
      "|202|12 |1    |\n",
      "|43 |151|1    |\n",
      "|92 |21 |1    |\n",
      "+---+---+-----+\n",
      "only showing top 5 rows\n",
      "\n"
     ]
    }
   ],
   "source": [
    "graph.edges\\\n",
    "            .groupBy(\"src\", \"dst\")\\\n",
    "            .count()\\\n",
    "            .orderBy(desc(\"count\"))\\\n",
    "            .show(5,False)\n",
    "\n",
    "graph.edges\\\n",
    "            .groupBy(\"src\", \"dst\")\\\n",
    "            .count()\\\n",
    "            .orderBy(asc(\"count\"))\\\n",
    "            .show(5,False)"
   ]
  },
  {
   "cell_type": "markdown",
   "metadata": {},
   "source": [
    "# Business Question?\n",
    "\n",
    "**Which is the most searched common holidaying destination ?**\n",
    "\n",
    "We need the vertex with the maximum indegree."
   ]
  },
  {
   "cell_type": "code",
   "execution_count": 32,
   "metadata": {},
   "outputs": [
    {
     "name": "stdout",
     "output_type": "stream",
     "text": [
      "+---+--------+\n",
      "|id |inDegree|\n",
      "+---+--------+\n",
      "|50 |18015006|\n",
      "|8  |1914010 |\n",
      "|198|1762641 |\n",
      "|105|1350403 |\n",
      "|70 |1199342 |\n",
      "+---+--------+\n",
      "only showing top 5 rows\n",
      "\n"
     ]
    }
   ],
   "source": [
    "inDeg = graph.inDegrees\n",
    "inDeg.orderBy(desc(\"inDegree\")).show(5, False)"
   ]
  },
  {
   "cell_type": "markdown",
   "metadata": {},
   "source": [
    "# Business Question?\n",
    "\n",
    "**Which country sees the maximum searches of vacation outside their own country?**\n",
    "\n",
    "We need the vertex with the maximum outdegree"
   ]
  },
  {
   "cell_type": "code",
   "execution_count": 33,
   "metadata": {},
   "outputs": [
    {
     "name": "stdout",
     "output_type": "stream",
     "text": [
      "+---+---------+\n",
      "|id |outDegree|\n",
      "+---+---------+\n",
      "|66 |20346844 |\n",
      "|205|4188283  |\n",
      "|3  |2212572  |\n",
      "|69 |1931466  |\n",
      "|77 |948722   |\n",
      "+---+---------+\n",
      "only showing top 5 rows\n",
      "\n"
     ]
    }
   ],
   "source": [
    "outDeg = graph.outDegrees\n",
    "outDeg.orderBy(desc(\"outDegree\")).show(5, False)"
   ]
  },
  {
   "cell_type": "markdown",
   "metadata": {},
   "source": [
    "# Business Question?\n",
    "\n",
    "**Which country's visitors search for vacation within their origin country?**\n",
    "\n",
    "We need a structural query to get answer of this question. ***Motif finding*** refers to searching for structural patterns in a graph. Query will be \"(a)-[]->(a)\" expresses an edge e from vertex a to vertex a. \n",
    "\n",
    "The edge e is ***empty*** as we are not considering any weight of the edges."
   ]
  },
  {
   "cell_type": "code",
   "execution_count": 34,
   "metadata": {},
   "outputs": [
    {
     "name": "stdout",
     "output_type": "stream",
     "text": [
      "+----+-----+\n",
      "|   a|count|\n",
      "+----+-----+\n",
      "|[68]|27280|\n",
      "|[77]|22086|\n",
      "|[50]|13334|\n",
      "|[46]|12230|\n",
      "|[70]| 5528|\n",
      "+----+-----+\n",
      "only showing top 5 rows\n",
      "\n"
     ]
    }
   ],
   "source": [
    "res = graph.find(\"(a)-[]->(a)\").groupBy(\"a\").count().orderBy(desc(\"count\"))\\\n",
    "          \n",
    "res.show(5)"
   ]
  },
  {
   "cell_type": "code",
   "execution_count": null,
   "metadata": {},
   "outputs": [],
   "source": []
  }
 ],
 "metadata": {
  "kernelspec": {
   "display_name": "Python 3",
   "language": "python",
   "name": "python3"
  },
  "language_info": {
   "codemirror_mode": {
    "name": "ipython",
    "version": 3
   },
   "file_extension": ".py",
   "mimetype": "text/x-python",
   "name": "python",
   "nbconvert_exporter": "python",
   "pygments_lexer": "ipython3",
   "version": "3.7.3"
  }
 },
 "nbformat": 4,
 "nbformat_minor": 4
}
